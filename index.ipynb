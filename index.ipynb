{
 "cells": [
  {
   "cell_type": "markdown",
   "metadata": {},
   "source": [
    "# APIs - Cumulative Lab\n",
    "\n",
    "\n",
    "## Introduction \n",
    "\n",
    "We've seen how the Yelp API works and how to create basic visualizations using Folium. It's time to put those skills to work in order to create a working map! Taking things a step further, you'll also independently explore how to perform pagination in order to retrieve a full results set from the Yelp API.\n",
    "\n",
    "## Objectives\n",
    "\n",
    "You will be able to: \n",
    "\n",
    "* Practice using functions to organize your code\n",
    "* Use pagination to retrieve all results from an API query\n",
    "* Practice parsing data returned from an API query\n",
    "* Practice interpreting visualizations of a dataset\n",
    "* Create maps using Folium"
   ]
  },
  {
   "cell_type": "markdown",
   "metadata": {},
   "source": [
    "## Your Task: Query Yelp for All Businesses in a Category and Analyze the Results\n",
    "\n",
    "![restaurant counter with pizza](images/restaurant_counter.jpg)\n",
    "\n",
    "Photo by <a href=\"https://unsplash.com/@jordanmadrid?utm_source=unsplash&utm_medium=referral&utm_content=creditCopyText\">Jordan Madrid</a> on <a href=\"/s/photos/pizza-restaurant?utm_source=unsplash&utm_medium=referral&utm_content=creditCopyText\">Unsplash</a>"
   ]
  },
  {
   "cell_type": "markdown",
   "metadata": {},
   "source": [
    "### Overview\n",
    "\n",
    "You've now worked with some API calls, but we have yet to see how to retrieve a more complete dataset in a programmatic manner. In this lab, you will write a query of businesses on Yelp, then use *pagination* to retrieve all possible results for that query. Then you will create a summary of your findings, including a Folium map of the geographic locations of those businesses.\n",
    "\n",
    "### Technical Details\n",
    "\n",
    "Returning to the Yelp API, the [documentation](https://www.yelp.com/developers/documentation/v3/business_search) also provides us details regarding the **API limits**. These often include details about the number of requests a user is allowed to make within a specified time limit and the maximum number of results to be returned. In this case, we are told that any request has a **maximum of 50 results per request** and defaults to 20. Furthermore, any search will be limited to a **total of 1000 results**. To retrieve all 1000 of these results, we would have to page through the results piece by piece, retrieving 50 at a time. Processes such as these are often referred to as pagination.\n",
    "\n",
    "Also, be mindful of the **API** ***rate*** **limits**. You can only make **5000 requests per day** and can make requests too fast. Start prototyping small before running a loop that could be faulty. You can also use `time.sleep(n)` to add delays. For more details see https://www.yelp.com/developers/documentation/v3/rate_limiting.\n",
    "\n",
    "In this lab, you will define a search and then paginate over the results to retrieve all of the results. You'll then parse these responses as a list of dictionaries (for further exploration) and create a map using Folium to visualize the results geographically.\n",
    "\n",
    "### Requirements\n",
    "\n",
    "#### 1. Make the Initial Request\n",
    "\n",
    "Start by filling in your API key to make the initial request to the business search API. Investigate the structure of the response you get back and start figuring out how you will extract the relevant information.\n",
    "\n",
    "#### 2. Add Pagination\n",
    "\n",
    "Using loops and functions, collect the maximum number of results for your query from the API.\n",
    "\n",
    "#### 3. Perform Exploratory Analysis\n",
    "\n",
    "Interpret visualizations related to the price range, average rating, and number of reviews for all query results.\n",
    "\n",
    "#### 4. Create a Folium Map\n",
    "\n",
    "Using latitude and longitude data, plot the query results on an interactive map."
   ]
  },
  {
   "cell_type": "markdown",
   "metadata": {},
   "source": [
    "## 1. Make the Initial Request\n",
    "\n",
    "### Querying\n",
    "\n",
    "Start by making an initial request to the Yelp API. Your search must include at least 2 parameters: **term** and **location**. For example, you might search for pizza restaurants in NYC. The term and location is up to you but make the request below.\n",
    "\n",
    "Use the `requests` library ([documentation here](https://requests.readthedocs.io/en/master/user/quickstart/#make-a-request)).\n",
    "\n",
    "You'll also need an API key from Yelp. If you haven't done this already, go to the Yelp [Manage App page](https://www.yelp.com/developers/v3/manage_app) and create a new app (after making an account if you haven't already)."
   ]
  },
  {
   "cell_type": "code",
   "execution_count": 25,
   "metadata": {},
   "outputs": [
    {
     "data": {
      "text/plain": [
       "<Response [200]>"
      ]
     },
     "execution_count": 25,
     "metadata": {},
     "output_type": "execute_result"
    }
   ],
   "source": [
    "# Replace None with appropriate code\n",
    "\n",
    "# Import the requests library\n",
    "import requests\n",
    "import json\n",
    "\n",
    "def get_keys(path):\n",
    "    with open(path) as f:\n",
    "        return json.load(f)\n",
    "\n",
    "# Get this from the \"Manage App\" page. Make sure you set them\n",
    "# back to None before pushing this to GitHub, since otherwise\n",
    "# your credentials will be compromised\n",
    "\n",
    "# keys=get_keys(None)\n",
    "# api_key = keys['key']\n",
    "api_key=\"oHO7VC_g4f8dx-yof18TszCxipWfLHmEXrFCLWxV88v525TDT2CJNOaSSfunea1oZhQ58mki2UKEi0hSfXLft1NhUT5d-Q6RoMuvrHtjXHenkMADJUh8qdTGUyT0ZXYx\"\n",
    "\n",
    "# These can be whatever you want! But the solution uses \"pizza\"\n",
    "# and \"New York NY\" if you want to compare your work directly\n",
    "term = \"pizza\"\n",
    "location = \"New York NY\"\n",
    "\n",
    "# Set up params for request\n",
    "url = \"https://api.yelp.com/v3/businesses/search\"\n",
    "headers = {\n",
    "    \"Authorization\": \"Bearer {}\".format(api_key)\n",
    "}\n",
    "url_params = {\n",
    "    \"term\": term.replace(\" \", \"+\"),\n",
    "    \"location\": location.replace(\" \", \"+\")\n",
    "}\n",
    "\n",
    "# Make the request using requests.get, passing in\n",
    "# url, headers=headers, and params=url_params\n",
    "response = requests.get(url, headers=headers, params=url_params)\n",
    "\n",
    "# Confirm we got a 200 response\n",
    "response"
   ]
  },
  {
   "cell_type": "code",
   "execution_count": 26,
   "metadata": {},
   "outputs": [
    {
     "data": {
      "text/plain": [
       "dict_keys(['businesses', 'total', 'region'])"
      ]
     },
     "execution_count": 26,
     "metadata": {},
     "output_type": "execute_result"
    }
   ],
   "source": [
    "# Run this cell without changes\n",
    "\n",
    "# Get the response body in JSON format\n",
    "response_json = response.json()\n",
    "# View the keys\n",
    "response_json.keys()"
   ]
  },
  {
   "cell_type": "markdown",
   "metadata": {},
   "source": [
    "### Extracting Data\n",
    "\n",
    "Now, retrieve the value associated with the `'businesses'` key, and inspect its contents."
   ]
  },
  {
   "cell_type": "code",
   "execution_count": 27,
   "metadata": {},
   "outputs": [
    {
     "data": {
      "text/plain": [
       "[{'id': 'ysqgdbSrezXgVwER2kQWKA',\n",
       "  'alias': 'julianas-brooklyn-3',\n",
       "  'name': \"Juliana's\",\n",
       "  'image_url': 'https://s3-media2.fl.yelpcdn.com/bphoto/od36nFW220aMFAnNP00ocw/o.jpg',\n",
       "  'is_closed': False,\n",
       "  'url': 'https://www.yelp.com/biz/julianas-brooklyn-3?adjust_creative=ICGkWrygXPlw6kVUifC-_A&utm_campaign=yelp_api_v3&utm_medium=api_v3_business_search&utm_source=ICGkWrygXPlw6kVUifC-_A',\n",
       "  'review_count': 2750,\n",
       "  'categories': [{'alias': 'pizza', 'title': 'Pizza'}],\n",
       "  'rating': 4.4,\n",
       "  'coordinates': {'latitude': 40.70274718768062,\n",
       "   'longitude': -73.99343490196397},\n",
       "  'transactions': ['delivery'],\n",
       "  'location': {'address1': '19 Old Fulton St',\n",
       "   'address2': '',\n",
       "   'address3': '',\n",
       "   'city': 'Brooklyn',\n",
       "   'zip_code': '11201',\n",
       "   'country': 'US',\n",
       "   'state': 'NY',\n",
       "   'display_address': ['19 Old Fulton St', 'Brooklyn, NY 11201']},\n",
       "  'phone': '+17185966700',\n",
       "  'display_phone': '(718) 596-6700',\n",
       "  'distance': 308.56984360837544},\n",
       " {'id': 'zj8Lq1T8KIC5zwFief15jg',\n",
       "  'alias': 'prince-street-pizza-new-york-2',\n",
       "  'name': 'Prince Street Pizza',\n",
       "  'image_url': 'https://s3-media1.fl.yelpcdn.com/bphoto/Jo9jBP5y6G_bG_g3H31fiw/o.jpg',\n",
       "  'is_closed': False,\n",
       "  'url': 'https://www.yelp.com/biz/prince-street-pizza-new-york-2?adjust_creative=ICGkWrygXPlw6kVUifC-_A&utm_campaign=yelp_api_v3&utm_medium=api_v3_business_search&utm_source=ICGkWrygXPlw6kVUifC-_A',\n",
       "  'review_count': 5219,\n",
       "  'categories': [{'alias': 'pizza', 'title': 'Pizza'},\n",
       "   {'alias': 'italian', 'title': 'Italian'}],\n",
       "  'rating': 4.3,\n",
       "  'coordinates': {'latitude': 40.72308755605564,\n",
       "   'longitude': -73.99453001177575},\n",
       "  'transactions': ['delivery', 'pickup'],\n",
       "  'location': {'address1': '27 Prince St',\n",
       "   'address2': None,\n",
       "   'address3': '',\n",
       "   'city': 'New York',\n",
       "   'zip_code': '10012',\n",
       "   'country': 'US',\n",
       "   'state': 'NY',\n",
       "   'display_address': ['27 Prince St', 'New York, NY 10012']},\n",
       "  'phone': '+12129664100',\n",
       "  'display_phone': '(212) 966-4100',\n",
       "  'distance': 1961.8771417367063},\n",
       " {'id': 'v1DHGRNCH9247WLYoaoA9A',\n",
       "  'alias': 'l-industrie-pizzeria-brooklyn',\n",
       "  'name': \"L'industrie Pizzeria\",\n",
       "  'image_url': 'https://s3-media1.fl.yelpcdn.com/bphoto/1-VBwAOj0g9YKYey3V-Z6Q/o.jpg',\n",
       "  'is_closed': False,\n",
       "  'url': 'https://www.yelp.com/biz/l-industrie-pizzeria-brooklyn?adjust_creative=ICGkWrygXPlw6kVUifC-_A&utm_campaign=yelp_api_v3&utm_medium=api_v3_business_search&utm_source=ICGkWrygXPlw6kVUifC-_A',\n",
       "  'review_count': 1258,\n",
       "  'categories': [{'alias': 'pizza', 'title': 'Pizza'}],\n",
       "  'rating': 4.7,\n",
       "  'coordinates': {'latitude': 40.71162, 'longitude': -73.95783},\n",
       "  'transactions': ['delivery', 'pickup'],\n",
       "  'location': {'address1': '254 S 2nd St',\n",
       "   'address2': '',\n",
       "   'address3': '',\n",
       "   'city': 'Brooklyn',\n",
       "   'zip_code': '11211',\n",
       "   'country': 'US',\n",
       "   'state': 'NY',\n",
       "   'display_address': ['254 S 2nd St', 'Brooklyn, NY 11211']},\n",
       "  'phone': '+17185990002',\n",
       "  'display_phone': '(718) 599-0002',\n",
       "  'distance': 3145.016041338447},\n",
       " {'id': 'G9hV4H2iGpWD8RoUpjtokg',\n",
       "  'alias': 'l-industrie-pizzeria-new-york',\n",
       "  'name': 'L’industrie Pizzeria',\n",
       "  'image_url': 'https://s3-media4.fl.yelpcdn.com/bphoto/Hzdlv1PI6ZM60HzVwxUc8A/o.jpg',\n",
       "  'is_closed': False,\n",
       "  'url': 'https://www.yelp.com/biz/l-industrie-pizzeria-new-york?adjust_creative=ICGkWrygXPlw6kVUifC-_A&utm_campaign=yelp_api_v3&utm_medium=api_v3_business_search&utm_source=ICGkWrygXPlw6kVUifC-_A',\n",
       "  'review_count': 141,\n",
       "  'categories': [{'alias': 'pizza', 'title': 'Pizza'}],\n",
       "  'rating': 4.7,\n",
       "  'coordinates': {'latitude': 40.73323443774397, 'longitude': -74.0049081},\n",
       "  'transactions': [],\n",
       "  'location': {'address1': '104 Christopher St',\n",
       "   'address2': '',\n",
       "   'address3': None,\n",
       "   'city': 'New York',\n",
       "   'zip_code': '10014',\n",
       "   'country': 'US',\n",
       "   'state': 'NY',\n",
       "   'display_address': ['104 Christopher St', 'New York, NY 10014']},\n",
       "  'phone': '+12122560648',\n",
       "  'display_phone': '(212) 256-0648',\n",
       "  'distance': 3216.943100434747},\n",
       " {'id': 'WIhm0W9197f_rRtDziq5qQ',\n",
       "  'alias': 'lombardis-pizza-new-york-4',\n",
       "  'name': \"Lombardi's Pizza\",\n",
       "  'image_url': 'https://s3-media1.fl.yelpcdn.com/bphoto/lBq1IBr5ZEI3nJBCwHYxcg/o.jpg',\n",
       "  'is_closed': False,\n",
       "  'url': 'https://www.yelp.com/biz/lombardis-pizza-new-york-4?adjust_creative=ICGkWrygXPlw6kVUifC-_A&utm_campaign=yelp_api_v3&utm_medium=api_v3_business_search&utm_source=ICGkWrygXPlw6kVUifC-_A',\n",
       "  'review_count': 6624,\n",
       "  'categories': [{'alias': 'pizza', 'title': 'Pizza'}],\n",
       "  'rating': 3.8,\n",
       "  'coordinates': {'latitude': 40.7215934960083,\n",
       "   'longitude': -73.9955956044561},\n",
       "  'transactions': ['delivery', 'pickup'],\n",
       "  'location': {'address1': '32 Spring St',\n",
       "   'address2': '',\n",
       "   'address3': '',\n",
       "   'city': 'New York',\n",
       "   'zip_code': '10012',\n",
       "   'country': 'US',\n",
       "   'state': 'NY',\n",
       "   'display_address': ['32 Spring St', 'New York, NY 10012']},\n",
       "  'phone': '+12129417994',\n",
       "  'display_phone': '(212) 941-7994',\n",
       "  'distance': 1798.9959778083735},\n",
       " {'id': 'KEEXuHCYhsQJ-zpJhu98bA',\n",
       "  'alias': 'joes-pizza-new-york-148',\n",
       "  'name': \"Joe's Pizza\",\n",
       "  'image_url': 'https://s3-media4.fl.yelpcdn.com/bphoto/FluVgKezP5ifs7greHV8Qg/o.jpg',\n",
       "  'is_closed': False,\n",
       "  'url': 'https://www.yelp.com/biz/joes-pizza-new-york-148?adjust_creative=ICGkWrygXPlw6kVUifC-_A&utm_campaign=yelp_api_v3&utm_medium=api_v3_business_search&utm_source=ICGkWrygXPlw6kVUifC-_A',\n",
       "  'review_count': 2169,\n",
       "  'categories': [{'alias': 'pizza', 'title': 'Pizza'}],\n",
       "  'rating': 4.2,\n",
       "  'coordinates': {'latitude': 40.7547, 'longitude': -73.98696},\n",
       "  'transactions': ['delivery', 'pickup'],\n",
       "  'location': {'address1': '1435 Broadway',\n",
       "   'address2': '',\n",
       "   'address3': None,\n",
       "   'city': 'New York',\n",
       "   'zip_code': '10018',\n",
       "   'country': 'US',\n",
       "   'state': 'NY',\n",
       "   'display_address': ['1435 Broadway', 'New York, NY 10018']},\n",
       "  'phone': '+16465594878',\n",
       "  'display_phone': '(646) 559-4878',\n",
       "  'distance': 5508.746902433722},\n",
       " {'id': 'Q9F2ocrmYuGt1yn3M7MOBw',\n",
       "  'alias': 'lucali-brooklyn-3',\n",
       "  'name': 'Lucali',\n",
       "  'image_url': 'https://s3-media1.fl.yelpcdn.com/bphoto/rMlNCZkNG2Nizhp8aBYKng/o.jpg',\n",
       "  'is_closed': False,\n",
       "  'url': 'https://www.yelp.com/biz/lucali-brooklyn-3?adjust_creative=ICGkWrygXPlw6kVUifC-_A&utm_campaign=yelp_api_v3&utm_medium=api_v3_business_search&utm_source=ICGkWrygXPlw6kVUifC-_A',\n",
       "  'review_count': 2042,\n",
       "  'categories': [{'alias': 'pizza', 'title': 'Pizza'}],\n",
       "  'rating': 4.2,\n",
       "  'coordinates': {'latitude': 40.681840746711224, 'longitude': -74.0003327},\n",
       "  'transactions': ['delivery'],\n",
       "  'location': {'address1': '575 Henry St',\n",
       "   'address2': None,\n",
       "   'address3': '',\n",
       "   'city': 'Brooklyn',\n",
       "   'zip_code': '11231',\n",
       "   'country': 'US',\n",
       "   'state': 'NY',\n",
       "   'display_address': ['575 Henry St', 'Brooklyn, NY 11231']},\n",
       "  'phone': '+17188584086',\n",
       "  'display_phone': '(718) 858-4086',\n",
       "  'distance': 2673.589406211555},\n",
       " {'id': '33MID69L6j6ZCZIR_S20uw',\n",
       "  'alias': 'mamas-too-new-york-2',\n",
       "  'name': \"Mama's Too\",\n",
       "  'image_url': 'https://s3-media3.fl.yelpcdn.com/bphoto/_fBNeFU-IMnUyjodPWuwmw/o.jpg',\n",
       "  'is_closed': False,\n",
       "  'url': 'https://www.yelp.com/biz/mamas-too-new-york-2?adjust_creative=ICGkWrygXPlw6kVUifC-_A&utm_campaign=yelp_api_v3&utm_medium=api_v3_business_search&utm_source=ICGkWrygXPlw6kVUifC-_A',\n",
       "  'review_count': 4,\n",
       "  'categories': [{'alias': 'italian', 'title': 'Italian'},\n",
       "   {'alias': 'pizza', 'title': 'Pizza'},\n",
       "   {'alias': 'sandwiches', 'title': 'Sandwiches'}],\n",
       "  'rating': 3.8,\n",
       "  'coordinates': {'latitude': 40.7332319, 'longitude': -74.004023},\n",
       "  'transactions': [],\n",
       "  'location': {'address1': '323 Bleecker St',\n",
       "   'address2': '',\n",
       "   'address3': None,\n",
       "   'city': 'New York',\n",
       "   'zip_code': '10014',\n",
       "   'country': 'US',\n",
       "   'state': 'NY',\n",
       "   'display_address': ['323 Bleecker St', 'New York, NY 10014']},\n",
       "  'phone': '+12125107256',\n",
       "  'display_phone': '(212) 510-7256',\n",
       "  'distance': 3196.730285650987},\n",
       " {'id': '-9NO2IDCJMyNGZMAQ1-VQw',\n",
       "  'alias': 'ny-pizza-suprema-new-york',\n",
       "  'name': 'NY Pizza Suprema',\n",
       "  'image_url': 'https://s3-media4.fl.yelpcdn.com/bphoto/EqbDXneMuQP6pw6GemVdQA/o.jpg',\n",
       "  'is_closed': False,\n",
       "  'url': 'https://www.yelp.com/biz/ny-pizza-suprema-new-york?adjust_creative=ICGkWrygXPlw6kVUifC-_A&utm_campaign=yelp_api_v3&utm_medium=api_v3_business_search&utm_source=ICGkWrygXPlw6kVUifC-_A',\n",
       "  'review_count': 2599,\n",
       "  'categories': [{'alias': 'pizza', 'title': 'Pizza'}],\n",
       "  'rating': 4.3,\n",
       "  'coordinates': {'latitude': 40.7502059936523,\n",
       "   'longitude': -73.9953231811523},\n",
       "  'transactions': ['delivery', 'pickup'],\n",
       "  'location': {'address1': '413 8th Ave',\n",
       "   'address2': '',\n",
       "   'address3': '',\n",
       "   'city': 'New York',\n",
       "   'zip_code': '10001',\n",
       "   'country': 'US',\n",
       "   'state': 'NY',\n",
       "   'display_address': ['413 8th Ave', 'New York, NY 10001']},\n",
       "  'phone': '+12125948939',\n",
       "  'display_phone': '(212) 594-8939',\n",
       "  'distance': 4977.847939164096},\n",
       " {'id': 'hGksyTiHBBdrhbiVjXzWVw',\n",
       "  'alias': 'scarrs-pizza-new-york',\n",
       "  'name': \"Scarr's Pizza\",\n",
       "  'image_url': 'https://s3-media3.fl.yelpcdn.com/bphoto/F6JCwU9XmP7FADyxuKrK3Q/o.jpg',\n",
       "  'is_closed': False,\n",
       "  'url': 'https://www.yelp.com/biz/scarrs-pizza-new-york?adjust_creative=ICGkWrygXPlw6kVUifC-_A&utm_campaign=yelp_api_v3&utm_medium=api_v3_business_search&utm_source=ICGkWrygXPlw6kVUifC-_A',\n",
       "  'review_count': 911,\n",
       "  'categories': [{'alias': 'pizza', 'title': 'Pizza'}],\n",
       "  'rating': 3.9,\n",
       "  'coordinates': {'latitude': 40.7157238, 'longitude': -73.99161149999999},\n",
       "  'transactions': ['delivery', 'pickup'],\n",
       "  'location': {'address1': '35 Orchard St',\n",
       "   'address2': '',\n",
       "   'address3': '',\n",
       "   'city': 'New York',\n",
       "   'zip_code': '10002',\n",
       "   'country': 'US',\n",
       "   'state': 'NY',\n",
       "   'display_address': ['35 Orchard St', 'New York, NY 10002']},\n",
       "  'phone': '+12123343481',\n",
       "  'display_phone': '(212) 334-3481',\n",
       "  'distance': 1165.1002553888},\n",
       " {'id': '16ZnHpuaaBt92XWeJHCC5A',\n",
       "  'alias': 'olio-e-più-new-york-7',\n",
       "  'name': 'Olio e Più',\n",
       "  'image_url': 'https://s3-media4.fl.yelpcdn.com/bphoto/CUpPgz_Q4QBHxxxxDJJTTA/o.jpg',\n",
       "  'is_closed': False,\n",
       "  'url': 'https://www.yelp.com/biz/olio-e-pi%C3%B9-new-york-7?adjust_creative=ICGkWrygXPlw6kVUifC-_A&utm_campaign=yelp_api_v3&utm_medium=api_v3_business_search&utm_source=ICGkWrygXPlw6kVUifC-_A',\n",
       "  'review_count': 5408,\n",
       "  'categories': [{'alias': 'pizza', 'title': 'Pizza'},\n",
       "   {'alias': 'italian', 'title': 'Italian'},\n",
       "   {'alias': 'cocktailbars', 'title': 'Cocktail Bars'}],\n",
       "  'rating': 4.5,\n",
       "  'coordinates': {'latitude': 40.733798036104304,\n",
       "   'longitude': -73.99977392649927},\n",
       "  'transactions': ['delivery', 'pickup'],\n",
       "  'location': {'address1': '3 Greenwich Ave',\n",
       "   'address2': None,\n",
       "   'address3': '',\n",
       "   'city': 'New York',\n",
       "   'zip_code': '10014',\n",
       "   'country': 'US',\n",
       "   'state': 'NY',\n",
       "   'display_address': ['3 Greenwich Ave', 'New York, NY 10014']},\n",
       "  'phone': '+12122436546',\n",
       "  'display_phone': '(212) 243-6546',\n",
       "  'distance': 3186.3804982206075},\n",
       " {'id': 'afuiZyn9oOyyCpuW7wGfHQ',\n",
       "  'alias': 'l-antica-pizzeria-da-michele-new-york-2',\n",
       "  'name': 'L’Antica Pizzeria da Michele',\n",
       "  'image_url': 'https://s3-media4.fl.yelpcdn.com/bphoto/ToekIdoWFBIeC6NyTOmDWQ/o.jpg',\n",
       "  'is_closed': False,\n",
       "  'url': 'https://www.yelp.com/biz/l-antica-pizzeria-da-michele-new-york-2?adjust_creative=ICGkWrygXPlw6kVUifC-_A&utm_campaign=yelp_api_v3&utm_medium=api_v3_business_search&utm_source=ICGkWrygXPlw6kVUifC-_A',\n",
       "  'review_count': 126,\n",
       "  'categories': [{'alias': 'pizza', 'title': 'Pizza'},\n",
       "   {'alias': 'italian', 'title': 'Italian'},\n",
       "   {'alias': 'breakfast_brunch', 'title': 'Breakfast & Brunch'}],\n",
       "  'rating': 4.3,\n",
       "  'coordinates': {'latitude': 40.737052, 'longitude': -74.001571},\n",
       "  'transactions': ['delivery', 'pickup', 'restaurant_reservation'],\n",
       "  'location': {'address1': '81 Greenwich Ave',\n",
       "   'address2': None,\n",
       "   'address3': '',\n",
       "   'city': 'New York',\n",
       "   'zip_code': '10014',\n",
       "   'country': 'US',\n",
       "   'state': 'NY',\n",
       "   'display_address': ['81 Greenwich Ave', 'New York, NY 10014']},\n",
       "  'phone': '+19295246682',\n",
       "  'display_phone': '(929) 524-6682',\n",
       "  'distance': 3560.29039362567},\n",
       " {'id': 'hZBxJfZtDjnMzH_jNFNHRQ',\n",
       "  'alias': 'little-pizza-parlor-brooklyn',\n",
       "  'name': 'Little Pizza Parlor',\n",
       "  'image_url': 'https://s3-media1.fl.yelpcdn.com/bphoto/jXQyfTZrmrJ3ra7nfPh4FQ/o.jpg',\n",
       "  'is_closed': False,\n",
       "  'url': 'https://www.yelp.com/biz/little-pizza-parlor-brooklyn?adjust_creative=ICGkWrygXPlw6kVUifC-_A&utm_campaign=yelp_api_v3&utm_medium=api_v3_business_search&utm_source=ICGkWrygXPlw6kVUifC-_A',\n",
       "  'review_count': 78,\n",
       "  'categories': [{'alias': 'pizza', 'title': 'Pizza'}],\n",
       "  'rating': 4.5,\n",
       "  'coordinates': {'latitude': 40.692425, 'longitude': -73.984467},\n",
       "  'transactions': ['delivery', 'pickup'],\n",
       "  'location': {'address1': '192 Duffield St',\n",
       "   'address2': None,\n",
       "   'address3': '',\n",
       "   'city': 'Brooklyn',\n",
       "   'zip_code': '11201',\n",
       "   'country': 'US',\n",
       "   'state': 'NY',\n",
       "   'display_address': ['192 Duffield St', 'Brooklyn, NY 11201']},\n",
       "  'phone': '+13477991249',\n",
       "  'display_phone': '(347) 799-1249',\n",
       "  'distance': 1668.414103945315},\n",
       " {'id': 'oJ_XSPZFpvIt6rvheSQl7A',\n",
       "  'alias': 'bleecker-street-pizza-new-york',\n",
       "  'name': 'Bleecker Street Pizza',\n",
       "  'image_url': 'https://s3-media1.fl.yelpcdn.com/bphoto/uScs5HVlHXaZMKIroDaHSg/o.jpg',\n",
       "  'is_closed': False,\n",
       "  'url': 'https://www.yelp.com/biz/bleecker-street-pizza-new-york?adjust_creative=ICGkWrygXPlw6kVUifC-_A&utm_campaign=yelp_api_v3&utm_medium=api_v3_business_search&utm_source=ICGkWrygXPlw6kVUifC-_A',\n",
       "  'review_count': 3027,\n",
       "  'categories': [{'alias': 'pizza', 'title': 'Pizza'},\n",
       "   {'alias': 'italian', 'title': 'Italian'}],\n",
       "  'rating': 4.2,\n",
       "  'coordinates': {'latitude': 40.7320627016512,\n",
       "   'longitude': -74.0036552270137},\n",
       "  'transactions': ['delivery', 'pickup'],\n",
       "  'location': {'address1': '69 7th Ave S',\n",
       "   'address2': None,\n",
       "   'address3': '',\n",
       "   'city': 'New York',\n",
       "   'zip_code': '10014',\n",
       "   'country': 'US',\n",
       "   'state': 'NY',\n",
       "   'display_address': ['69 7th Ave S', 'New York, NY 10014']},\n",
       "  'phone': '+12129244466',\n",
       "  'display_phone': '(212) 924-4466',\n",
       "  'distance': 3073.5742196084057},\n",
       " {'id': 'peV8B-MMMZb1mrC9r6rfAA',\n",
       "  'alias': 'lucia-of-soho-new-york',\n",
       "  'name': 'Lucia of Soho',\n",
       "  'image_url': 'https://s3-media1.fl.yelpcdn.com/bphoto/wO7d04A4mTpviADiKk10Yg/o.jpg',\n",
       "  'is_closed': False,\n",
       "  'url': 'https://www.yelp.com/biz/lucia-of-soho-new-york?adjust_creative=ICGkWrygXPlw6kVUifC-_A&utm_campaign=yelp_api_v3&utm_medium=api_v3_business_search&utm_source=ICGkWrygXPlw6kVUifC-_A',\n",
       "  'review_count': 41,\n",
       "  'categories': [{'alias': 'pizza', 'title': 'Pizza'}],\n",
       "  'rating': 4.7,\n",
       "  'coordinates': {'latitude': 40.721416405112784, 'longitude': -74.0043748},\n",
       "  'transactions': ['delivery', 'pickup'],\n",
       "  'location': {'address1': '375 Canal St',\n",
       "   'address2': None,\n",
       "   'address3': '',\n",
       "   'city': 'New York',\n",
       "   'zip_code': '10013',\n",
       "   'country': 'US',\n",
       "   'state': 'NY',\n",
       "   'display_address': ['375 Canal St', 'New York, NY 10013']},\n",
       "  'phone': '+19179652900',\n",
       "  'display_phone': '(917) 965-2900',\n",
       "  'distance': 1968.7604932148604},\n",
       " {'id': '6mYQzAdPxa4S1ZtvjST1eg',\n",
       "  'alias': 'julianas-time-out-market-brooklyn',\n",
       "  'name': \"Juliana's - Time Out Market\",\n",
       "  'image_url': 'https://s3-media3.fl.yelpcdn.com/bphoto/kqM6U4wGOhx1UtZtt2LMgA/o.jpg',\n",
       "  'is_closed': False,\n",
       "  'url': 'https://www.yelp.com/biz/julianas-time-out-market-brooklyn?adjust_creative=ICGkWrygXPlw6kVUifC-_A&utm_campaign=yelp_api_v3&utm_medium=api_v3_business_search&utm_source=ICGkWrygXPlw6kVUifC-_A',\n",
       "  'review_count': 4,\n",
       "  'categories': [{'alias': 'pizza', 'title': 'Pizza'}],\n",
       "  'rating': 4.3,\n",
       "  'coordinates': {'latitude': 40.703447, 'longitude': -73.99215},\n",
       "  'transactions': [],\n",
       "  'location': {'address1': '55 Water St',\n",
       "   'address2': '',\n",
       "   'address3': None,\n",
       "   'city': 'Brooklyn',\n",
       "   'zip_code': '11201',\n",
       "   'country': 'US',\n",
       "   'state': 'NY',\n",
       "   'display_address': ['55 Water St', 'Brooklyn, NY 11201']},\n",
       "  'phone': '',\n",
       "  'display_phone': '',\n",
       "  'distance': 286.33958619941774},\n",
       " {'id': 'EXQ0x2W9RTydIlHAU9MU1A',\n",
       "  'alias': 'mimis-pizza-new-york-3',\n",
       "  'name': \"Mimi's Pizza\",\n",
       "  'image_url': 'https://s3-media3.fl.yelpcdn.com/bphoto/btcWJW_uNq7JEwk2wFMtiQ/o.jpg',\n",
       "  'is_closed': False,\n",
       "  'url': 'https://www.yelp.com/biz/mimis-pizza-new-york-3?adjust_creative=ICGkWrygXPlw6kVUifC-_A&utm_campaign=yelp_api_v3&utm_medium=api_v3_business_search&utm_source=ICGkWrygXPlw6kVUifC-_A',\n",
       "  'review_count': 184,\n",
       "  'categories': [{'alias': 'pizza', 'title': 'Pizza'}],\n",
       "  'rating': 4.5,\n",
       "  'coordinates': {'latitude': 40.778638, 'longitude': -73.952895},\n",
       "  'transactions': ['delivery', 'pickup'],\n",
       "  'location': {'address1': '217 E 86th St',\n",
       "   'address2': None,\n",
       "   'address3': '',\n",
       "   'city': 'New York',\n",
       "   'zip_code': '10028',\n",
       "   'country': 'US',\n",
       "   'state': 'NY',\n",
       "   'display_address': ['217 E 86th St', 'New York, NY 10028']},\n",
       "  'phone': '+16468612518',\n",
       "  'display_phone': '(646) 861-2518',\n",
       "  'distance': 8852.345604022003},\n",
       " {'id': 'Ovniqgc47wZIEj-0rrEf3w',\n",
       "  'alias': 'macoletta-new-york-2',\n",
       "  'name': 'Macoletta',\n",
       "  'image_url': 'https://s3-media3.fl.yelpcdn.com/bphoto/c3GlZpR4AKFGR9g0yB0EKA/o.jpg',\n",
       "  'is_closed': False,\n",
       "  'url': 'https://www.yelp.com/biz/macoletta-new-york-2?adjust_creative=ICGkWrygXPlw6kVUifC-_A&utm_campaign=yelp_api_v3&utm_medium=api_v3_business_search&utm_source=ICGkWrygXPlw6kVUifC-_A',\n",
       "  'review_count': 30,\n",
       "  'categories': [{'alias': 'pizza', 'title': 'Pizza'},\n",
       "   {'alias': 'italian', 'title': 'Italian'},\n",
       "   {'alias': 'cocktailbars', 'title': 'Cocktail Bars'}],\n",
       "  'rating': 4.7,\n",
       "  'coordinates': {'latitude': 40.7210325, 'longitude': -73.9601995},\n",
       "  'transactions': ['delivery', 'pickup'],\n",
       "  'location': {'address1': '58 N 9th St',\n",
       "   'address2': None,\n",
       "   'address3': '',\n",
       "   'city': 'New York',\n",
       "   'zip_code': '11249',\n",
       "   'country': 'US',\n",
       "   'state': 'NY',\n",
       "   'display_address': ['58 N 9th St', 'New York, NY 11249']},\n",
       "  'phone': '+16075667105',\n",
       "  'display_phone': '(607) 566-7105',\n",
       "  'distance': 3348.398498155947},\n",
       " {'id': 'lSJNx6YFjG1PPwu2wRPcvg',\n",
       "  'alias': 'nates-detroit-style-pizza-brooklyn',\n",
       "  'name': \"Nate's Detroit Style Pizza\",\n",
       "  'image_url': 'https://s3-media4.fl.yelpcdn.com/bphoto/f5P_DVa4_FBhL0Ug1vF_rA/o.jpg',\n",
       "  'is_closed': False,\n",
       "  'url': 'https://www.yelp.com/biz/nates-detroit-style-pizza-brooklyn?adjust_creative=ICGkWrygXPlw6kVUifC-_A&utm_campaign=yelp_api_v3&utm_medium=api_v3_business_search&utm_source=ICGkWrygXPlw6kVUifC-_A',\n",
       "  'review_count': 3,\n",
       "  'categories': [{'alias': 'pizza', 'title': 'Pizza'}],\n",
       "  'rating': 5.0,\n",
       "  'coordinates': {'latitude': 40.689298, 'longitude': -73.991845},\n",
       "  'transactions': ['delivery', 'pickup'],\n",
       "  'location': {'address1': '220 Atlantic Ave',\n",
       "   'address2': '',\n",
       "   'address3': None,\n",
       "   'city': 'Brooklyn',\n",
       "   'zip_code': '11201',\n",
       "   'country': 'US',\n",
       "   'state': 'NY',\n",
       "   'display_address': ['220 Atlantic Ave', 'Brooklyn, NY 11201']},\n",
       "  'phone': '',\n",
       "  'display_phone': '',\n",
       "  'distance': 1802.6262038178663},\n",
       " {'id': '4h4Tuuc56YPO6lWfZ1bdSQ',\n",
       "  'alias': 'joes-pizza-new-york-152',\n",
       "  'name': \"Joe's Pizza\",\n",
       "  'image_url': 'https://s3-media4.fl.yelpcdn.com/bphoto/sUjegcIlz9bo1s20BqM5KA/o.jpg',\n",
       "  'is_closed': False,\n",
       "  'url': 'https://www.yelp.com/biz/joes-pizza-new-york-152?adjust_creative=ICGkWrygXPlw6kVUifC-_A&utm_campaign=yelp_api_v3&utm_medium=api_v3_business_search&utm_source=ICGkWrygXPlw6kVUifC-_A',\n",
       "  'review_count': 558,\n",
       "  'categories': [{'alias': 'pizza', 'title': 'Pizza'}],\n",
       "  'rating': 4.2,\n",
       "  'coordinates': {'latitude': 40.7101297729083,\n",
       "   'longitude': -74.0077206864953},\n",
       "  'transactions': ['delivery', 'pickup'],\n",
       "  'location': {'address1': '124 Fulton St',\n",
       "   'address2': '',\n",
       "   'address3': None,\n",
       "   'city': 'New York',\n",
       "   'zip_code': '10038',\n",
       "   'country': 'US',\n",
       "   'state': 'NY',\n",
       "   'display_address': ['124 Fulton St', 'New York, NY 10038']},\n",
       "  'phone': '+12122670860',\n",
       "  'display_phone': '(212) 267-0860',\n",
       "  'distance': 1245.9428626945232}]"
      ]
     },
     "execution_count": 27,
     "metadata": {},
     "output_type": "execute_result"
    }
   ],
   "source": [
    "response_json[\"businesses\"]"
   ]
  },
  {
   "cell_type": "code",
   "execution_count": 28,
   "metadata": {},
   "outputs": [
    {
     "data": {
      "text/plain": [
       "[{'id': 'ysqgdbSrezXgVwER2kQWKA',\n",
       "  'alias': 'julianas-brooklyn-3',\n",
       "  'name': \"Juliana's\",\n",
       "  'image_url': 'https://s3-media2.fl.yelpcdn.com/bphoto/od36nFW220aMFAnNP00ocw/o.jpg',\n",
       "  'is_closed': False,\n",
       "  'url': 'https://www.yelp.com/biz/julianas-brooklyn-3?adjust_creative=ICGkWrygXPlw6kVUifC-_A&utm_campaign=yelp_api_v3&utm_medium=api_v3_business_search&utm_source=ICGkWrygXPlw6kVUifC-_A',\n",
       "  'review_count': 2750,\n",
       "  'categories': [{'alias': 'pizza', 'title': 'Pizza'}],\n",
       "  'rating': 4.4,\n",
       "  'coordinates': {'latitude': 40.70274718768062,\n",
       "   'longitude': -73.99343490196397},\n",
       "  'transactions': ['delivery'],\n",
       "  'location': {'address1': '19 Old Fulton St',\n",
       "   'address2': '',\n",
       "   'address3': '',\n",
       "   'city': 'Brooklyn',\n",
       "   'zip_code': '11201',\n",
       "   'country': 'US',\n",
       "   'state': 'NY',\n",
       "   'display_address': ['19 Old Fulton St', 'Brooklyn, NY 11201']},\n",
       "  'phone': '+17185966700',\n",
       "  'display_phone': '(718) 596-6700',\n",
       "  'distance': 308.56984360837544},\n",
       " {'id': 'zj8Lq1T8KIC5zwFief15jg',\n",
       "  'alias': 'prince-street-pizza-new-york-2',\n",
       "  'name': 'Prince Street Pizza',\n",
       "  'image_url': 'https://s3-media1.fl.yelpcdn.com/bphoto/Jo9jBP5y6G_bG_g3H31fiw/o.jpg',\n",
       "  'is_closed': False,\n",
       "  'url': 'https://www.yelp.com/biz/prince-street-pizza-new-york-2?adjust_creative=ICGkWrygXPlw6kVUifC-_A&utm_campaign=yelp_api_v3&utm_medium=api_v3_business_search&utm_source=ICGkWrygXPlw6kVUifC-_A',\n",
       "  'review_count': 5219,\n",
       "  'categories': [{'alias': 'pizza', 'title': 'Pizza'},\n",
       "   {'alias': 'italian', 'title': 'Italian'}],\n",
       "  'rating': 4.3,\n",
       "  'coordinates': {'latitude': 40.72308755605564,\n",
       "   'longitude': -73.99453001177575},\n",
       "  'transactions': ['delivery', 'pickup'],\n",
       "  'location': {'address1': '27 Prince St',\n",
       "   'address2': None,\n",
       "   'address3': '',\n",
       "   'city': 'New York',\n",
       "   'zip_code': '10012',\n",
       "   'country': 'US',\n",
       "   'state': 'NY',\n",
       "   'display_address': ['27 Prince St', 'New York, NY 10012']},\n",
       "  'phone': '+12129664100',\n",
       "  'display_phone': '(212) 966-4100',\n",
       "  'distance': 1961.8771417367063}]"
      ]
     },
     "execution_count": 28,
     "metadata": {},
     "output_type": "execute_result"
    }
   ],
   "source": [
    "# Replace None with appropriate code\n",
    "\n",
    "# Retrieve the value from response_json\n",
    "businesses = [x for x in response_json ['businesses']]\n",
    "\n",
    "# View the first 2 records\n",
    "businesses[:2]"
   ]
  },
  {
   "cell_type": "markdown",
   "metadata": {},
   "source": [
    "### Preparing Data\n",
    "\n",
    "Write a function `prepare_data` that takes in a list of dictionaries like `businesses` and returns a copy that has been prepared for analysis:\n",
    "\n",
    "1. The `coordinates` key-value pair has been converted into two separate key-value pairs, `latitude` and `longitude`\n",
    "2. All other key-value pairs except for `name`, `review_count`, `rating`, and `price` have been dropped\n",
    "3. All dictionaries missing one of the relevant keys or containing null values have been dropped\n",
    "\n",
    "In other words, the final keys for each dictionary should be `name`, `review_count`, `rating`, `price`, `latitude`, and `longitude`.\n",
    "\n",
    "Complete the function in the cell below:"
   ]
  },
  {
   "cell_type": "code",
   "execution_count": 5,
   "metadata": {},
   "outputs": [
    {
     "name": "stdout",
     "output_type": "stream",
     "text": [
      "dict_keys(['id', 'alias', 'name', 'image_url', 'is_closed', 'url', 'review_count', 'categories', 'rating', 'coordinates', 'transactions', 'location', 'phone', 'display_phone', 'distance'])\n",
      "dict_keys(['id', 'alias', 'name', 'image_url', 'is_closed', 'url', 'review_count', 'categories', 'rating', 'coordinates', 'transactions', 'location', 'phone', 'display_phone', 'distance'])\n",
      "dict_keys(['id', 'alias', 'name', 'image_url', 'is_closed', 'url', 'review_count', 'categories', 'rating', 'coordinates', 'transactions', 'location', 'phone', 'display_phone', 'distance'])\n",
      "dict_keys(['id', 'alias', 'name', 'image_url', 'is_closed', 'url', 'review_count', 'categories', 'rating', 'coordinates', 'transactions', 'location', 'phone', 'display_phone', 'distance'])\n",
      "dict_keys(['id', 'alias', 'name', 'image_url', 'is_closed', 'url', 'review_count', 'categories', 'rating', 'coordinates', 'transactions', 'location', 'phone', 'display_phone', 'distance'])\n",
      "dict_keys(['id', 'alias', 'name', 'image_url', 'is_closed', 'url', 'review_count', 'categories', 'rating', 'coordinates', 'transactions', 'location', 'phone', 'display_phone', 'distance'])\n",
      "dict_keys(['id', 'alias', 'name', 'image_url', 'is_closed', 'url', 'review_count', 'categories', 'rating', 'coordinates', 'transactions', 'location', 'phone', 'display_phone', 'distance'])\n",
      "dict_keys(['id', 'alias', 'name', 'image_url', 'is_closed', 'url', 'review_count', 'categories', 'rating', 'coordinates', 'transactions', 'location', 'phone', 'display_phone', 'distance'])\n",
      "dict_keys(['id', 'alias', 'name', 'image_url', 'is_closed', 'url', 'review_count', 'categories', 'rating', 'coordinates', 'transactions', 'location', 'phone', 'display_phone', 'distance'])\n",
      "dict_keys(['id', 'alias', 'name', 'image_url', 'is_closed', 'url', 'review_count', 'categories', 'rating', 'coordinates', 'transactions', 'location', 'phone', 'display_phone', 'distance'])\n",
      "dict_keys(['id', 'alias', 'name', 'image_url', 'is_closed', 'url', 'review_count', 'categories', 'rating', 'coordinates', 'transactions', 'location', 'phone', 'display_phone', 'distance'])\n",
      "dict_keys(['id', 'alias', 'name', 'image_url', 'is_closed', 'url', 'review_count', 'categories', 'rating', 'coordinates', 'transactions', 'location', 'phone', 'display_phone', 'distance'])\n",
      "dict_keys(['id', 'alias', 'name', 'image_url', 'is_closed', 'url', 'review_count', 'categories', 'rating', 'coordinates', 'transactions', 'location', 'phone', 'display_phone', 'distance'])\n",
      "dict_keys(['id', 'alias', 'name', 'image_url', 'is_closed', 'url', 'review_count', 'categories', 'rating', 'coordinates', 'transactions', 'location', 'phone', 'display_phone', 'distance'])\n",
      "dict_keys(['id', 'alias', 'name', 'image_url', 'is_closed', 'url', 'review_count', 'categories', 'rating', 'coordinates', 'transactions', 'location', 'phone', 'display_phone', 'distance'])\n",
      "dict_keys(['id', 'alias', 'name', 'image_url', 'is_closed', 'url', 'review_count', 'categories', 'rating', 'coordinates', 'transactions', 'location', 'phone', 'display_phone', 'distance'])\n",
      "dict_keys(['id', 'alias', 'name', 'image_url', 'is_closed', 'url', 'review_count', 'categories', 'rating', 'coordinates', 'transactions', 'location', 'phone', 'display_phone', 'distance'])\n",
      "dict_keys(['id', 'alias', 'name', 'image_url', 'is_closed', 'url', 'review_count', 'categories', 'rating', 'coordinates', 'transactions', 'location', 'phone', 'display_phone', 'distance'])\n",
      "dict_keys(['id', 'alias', 'name', 'image_url', 'is_closed', 'url', 'review_count', 'categories', 'rating', 'coordinates', 'transactions', 'location', 'phone', 'display_phone', 'distance'])\n",
      "dict_keys(['id', 'alias', 'name', 'image_url', 'is_closed', 'url', 'review_count', 'categories', 'rating', 'coordinates', 'transactions', 'location', 'phone', 'display_phone', 'distance'])\n"
     ]
    }
   ],
   "source": [
    "for rev in businesses:\n",
    "    print(rev.keys())"
   ]
  },
  {
   "cell_type": "code",
   "execution_count": 6,
   "metadata": {},
   "outputs": [
    {
     "data": {
      "text/plain": [
       "[{'name': \"Juliana's\",\n",
       "  'review_count': 2750,\n",
       "  'rating': 4.4,\n",
       "  'latitude': 40.70274718768062,\n",
       "  'longitude': -73.99343490196397},\n",
       " {'name': 'Prince Street Pizza',\n",
       "  'review_count': 5219,\n",
       "  'rating': 4.3,\n",
       "  'latitude': 40.72308755605564,\n",
       "  'longitude': -73.99453001177575},\n",
       " {'name': \"L'industrie Pizzeria\",\n",
       "  'review_count': 1258,\n",
       "  'rating': 4.7,\n",
       "  'latitude': 40.71162,\n",
       "  'longitude': -73.95783},\n",
       " {'name': 'L’industrie Pizzeria',\n",
       "  'review_count': 141,\n",
       "  'rating': 4.7,\n",
       "  'latitude': 40.73323443774397,\n",
       "  'longitude': -74.0049081},\n",
       " {'name': \"Lombardi's Pizza\",\n",
       "  'review_count': 6624,\n",
       "  'rating': 3.8,\n",
       "  'latitude': 40.7215934960083,\n",
       "  'longitude': -73.9955956044561}]"
      ]
     },
     "execution_count": 6,
     "metadata": {},
     "output_type": "execute_result"
    }
   ],
   "source": [
    "# Replace None with appropriate code\n",
    "\n",
    "def prepare_data(data_list):\n",
    "    \"\"\"\n",
    "    This function takes in a list of dictionaries and prepares it\n",
    "    for analysis\n",
    "    \"\"\"\n",
    "    \n",
    "    # Make a new list to hold results\n",
    "    results = []\n",
    "    \n",
    "    for business_data in data_list:\n",
    "            \n",
    "        # Make a new dictionary to hold prepared data for this business\n",
    "        prepared_data = {}\n",
    "        prepared_data = {key:val for key, val in business_data.items() if (key == (\"name\") or key == (\"rating\") or key==(\"review_count\"))}  \n",
    "        \n",
    "        \n",
    "        prepared_data[\"latitude\"]= business_data['coordinates'][\"latitude\"]\n",
    "        prepared_data[\"longitude\"]= business_data['coordinates'][\"longitude\"]\n",
    "        # Extract name, review_count, rating, and price key-value pairs\n",
    "        # from business_data and add to prepared_data\n",
    "        # If a key is not present in business_data, add it to prepared_data\n",
    "        # with an associated value of None\n",
    "#            \n",
    "        # Parse and add latitude and longitude columns\n",
    "       \n",
    "        \n",
    "        # Add to list if all values are present\n",
    "        if all(prepared_data.values()):\n",
    "            results.append(prepared_data)\n",
    "    \n",
    "    return results\n",
    "    \n",
    "# Test out function\n",
    "prepared_businesses = prepare_data(businesses)\n",
    "prepared_businesses[:5]"
   ]
  },
  {
   "cell_type": "markdown",
   "metadata": {},
   "source": [
    "Check that your function created the correct keys:"
   ]
  },
  {
   "cell_type": "code",
   "execution_count": 7,
   "metadata": {},
   "outputs": [],
   "source": [
    "# Run this cell without changes\n",
    "\n",
    "assert sorted(list(prepared_businesses[0].keys())) == ['latitude', 'longitude', 'name', 'rating', 'review_count']"
   ]
  },
  {
   "cell_type": "markdown",
   "metadata": {},
   "source": [
    "The following code will differ depending on your query, but we expect there to be 20 businesses in the original list, and potentially fewer in the prepared list (if any of them were missing data):"
   ]
  },
  {
   "cell_type": "code",
   "execution_count": 8,
   "metadata": {},
   "outputs": [
    {
     "name": "stdout",
     "output_type": "stream",
     "text": [
      "Original: 20\n",
      "Prepared: 20\n"
     ]
    }
   ],
   "source": [
    "# Run this cell without changes\n",
    "print(\"Original:\", len(businesses))\n",
    "print(\"Prepared:\", len(prepared_businesses))"
   ]
  },
  {
   "cell_type": "markdown",
   "metadata": {},
   "source": [
    "Great! We will reuse this function once we have retrieved the full dataset."
   ]
  },
  {
   "cell_type": "markdown",
   "metadata": {},
   "source": [
    "## 2. Add Pagination\n",
    "\n",
    "Now that you are able to extract information from one page of the response, let's figure out how to request as many pages as possible.\n",
    "\n",
    "### Determining the Total\n",
    "\n",
    "Depending on the number of total results for your query, you will either retrieve all of the results, or just the first 1000 (if there are more than 1000 total).\n",
    "\n",
    "We can find the total number of results using the `\"total\"` key:"
   ]
  },
  {
   "cell_type": "code",
   "execution_count": 9,
   "metadata": {},
   "outputs": [
    {
     "data": {
      "text/plain": [
       "12400"
      ]
     },
     "execution_count": 9,
     "metadata": {},
     "output_type": "execute_result"
    }
   ],
   "source": [
    "# Run this cell without changes\n",
    "response_json[\"total\"]"
   ]
  },
  {
   "cell_type": "markdown",
   "metadata": {},
   "source": [
    "(This is specific to the implementation of the Yelp API. Some APIs will just tell you that there are more pages, or will tell you the number of pages total, rather than the total number of results. If you're not sure, always check the documentation.)\n",
    "\n",
    "In the cell below, assign the variable `total` to either the value shown above (if it is less than 1000), or 1000."
   ]
  },
  {
   "cell_type": "code",
   "execution_count": 10,
   "metadata": {},
   "outputs": [],
   "source": [
    "# Replace None with appropriate code\n",
    "if response_json[\"total\"] < 1000:\n",
    "    total = response_json[\"total\"]\n",
    "else: \n",
    "    total = 1000"
   ]
  },
  {
   "cell_type": "markdown",
   "metadata": {},
   "source": [
    "### Calculating the Offsets\n",
    "\n",
    "The documentation states in the parameters section:\n",
    "\n",
    "> **Name**: `limit`, **Type:** int, **Description:** Optional. Number of business results to return. By default, it will return 20. Maximum is 50.\n",
    "\n",
    "> **Name**: `offset`, **Type:** int, **Description:** Optional. Offset the list of returned business results by this amount.\n",
    "\n",
    "So, to get the most results with the fewest API calls we want to set a limit of 50 every time. If, say, we wanted to get 210 total results, that would mean:\n",
    "\n",
    "1. Offset of `0` (first 50 records)\n",
    "2. Offset of `50` (second 50 records)\n",
    "3. Offset of `100` (third 50 records)\n",
    "4. Offset of `150` (fourth 50 records)\n",
    "5. Offset of `200` (final 10 records)\n",
    "\n",
    "In the cell below, create a function `get_offsets` that takes in a total and returns a list of offsets for that total. You can assume that there is a limit of 50 every time.\n",
    "\n",
    "*Hint: you can use `range` ([documentation here](https://docs.python.org/3.3/library/stdtypes.html?highlight=range#range)) to do this in one line of code. Just make the returned result is a list.*"
   ]
  },
  {
   "cell_type": "code",
   "execution_count": 11,
   "metadata": {},
   "outputs": [],
   "source": [
    "# Replace None with appropriate code\n",
    "def get_offsets(total):\n",
    "    \"\"\"\n",
    "    Get a list of offsets needed to get all pages\n",
    "    of data up until the total\n",
    "    \"\"\"\n",
    "    return list(range(0, total, 50))"
   ]
  },
  {
   "cell_type": "markdown",
   "metadata": {},
   "source": [
    "Check that your function works below:"
   ]
  },
  {
   "cell_type": "code",
   "execution_count": 12,
   "metadata": {},
   "outputs": [],
   "source": [
    "# Run this cell without changes\n",
    "\n",
    "assert get_offsets(200) == [0, 50, 100, 150]\n",
    "assert get_offsets(210) == [0, 50, 100, 150, 200]"
   ]
  },
  {
   "cell_type": "markdown",
   "metadata": {},
   "source": [
    "### Putting It All Together\n",
    "\n",
    "Recall that the following variable has already been declared for you:"
   ]
  },
  {
   "cell_type": "code",
   "execution_count": 13,
   "metadata": {},
   "outputs": [
    {
     "data": {
      "text/plain": [
       "{'term': 'pizza', 'location': 'New+York+NY'}"
      ]
     },
     "execution_count": 13,
     "metadata": {},
     "output_type": "execute_result"
    }
   ],
   "source": [
    "# Run this cell without changes\n",
    "url_params"
   ]
  },
  {
   "cell_type": "markdown",
   "metadata": {},
   "source": [
    "We'll go ahead and also specify that the limit should be 50 every time:"
   ]
  },
  {
   "cell_type": "code",
   "execution_count": 14,
   "metadata": {},
   "outputs": [],
   "source": [
    "# Run this cell without changes\n",
    "url_params[\"limit\"] = 50"
   ]
  },
  {
   "cell_type": "markdown",
   "metadata": {},
   "source": [
    "In order to modify the offset, you'll need to add it to `url_params` with the key `\"offset\"` and whatever value is needed.\n",
    "\n",
    "In the cell below, write code that:\n",
    "\n",
    "* Creates an empty list for the full prepared dataset\n",
    "* Loops over all of the offsets from `get_offsets` and makes an API call each time with the specified offset\n",
    "* Calls `prepare_data` to get a cleaned version of the result of each API call\n",
    "* Extends the full prepared dataset list with each query's prepared dataset"
   ]
  },
  {
   "cell_type": "code",
   "execution_count": 15,
   "metadata": {},
   "outputs": [
    {
     "data": {
      "text/plain": [
       "997"
      ]
     },
     "execution_count": 15,
     "metadata": {},
     "output_type": "execute_result"
    }
   ],
   "source": [
    "# Replace None with appropriate code\n",
    "\n",
    "# Create an empty list for the full prepared dataset\n",
    "full_dataset = []\n",
    "\n",
    "for offset in get_offsets(total):\n",
    "    # Add or update the \"offset\" key-value pair in url_params\n",
    "    url_params['offset'] = offset\n",
    "    \n",
    "    # Make the query and get the response\n",
    "    response = requests.get(url, headers=headers, params=url_params)\n",
    "    \n",
    "    # Get the response body in JSON format\n",
    "    response_json = response.json()\n",
    "    \n",
    "    # Get the list of businesses from the response_json\n",
    "    businesses = response_json[\"businesses\"]\n",
    "    \n",
    "    # Call the prepare_data function to get a list of processed data\n",
    "    prepared_businesses = prepare_data(businesses)\n",
    "    \n",
    "    # Extend full_dataset with this list (don't append, or you'll get\n",
    "    # a list of lists instead of a flat list)\n",
    "    full_dataset.extend(prepared_businesses)\n",
    "\n",
    "# Check the length of the full dataset. It will be up to `total`,\n",
    "# potentially less if there were missing values\n",
    "len(full_dataset)"
   ]
  },
  {
   "cell_type": "markdown",
   "metadata": {},
   "source": [
    "This code may take up to a few minutes to run.\n",
    "\n",
    "If you get an error trying to get the response body in JSON format, try adding `time.sleep(1)` right after the `requests.get` line, so your code will sleep for 1 second between each API call."
   ]
  },
  {
   "cell_type": "markdown",
   "metadata": {},
   "source": [
    "## 3. Perform Exploratory Analysis\n",
    "\n",
    "Take the businesses from the previous question and do an initial exploratory analysis. We have provided some plots for you to interpret:"
   ]
  },
  {
   "cell_type": "code",
   "execution_count": 17,
   "metadata": {},
   "outputs": [
    {
     "data": {
      "text/plain": [
       "Text(0, 0.5, 'Number of Businesses')"
      ]
     },
     "execution_count": 17,
     "metadata": {},
     "output_type": "execute_result"
    },
    {
     "data": {
      "image/png": "[encoded data removed]",
      "text/plain": [
       "<Figure size 1152x360 with 3 Axes>"
      ]
     },
     "metadata": {
      "needs_background": "light"
     },
     "output_type": "display_data"
    }
   ],
   "source": [
    "# Run this cell without changes\n",
    "from collections import Counter\n",
    "import matplotlib.pyplot as plt\n",
    "%matplotlib inline\n",
    "\n",
    "fig, (ax1, ax2, ax3) = plt.subplots(ncols=3, figsize=(16, 5))\n",
    "\n",
    "# Plot distribution of number of reviews\n",
    "all_review_counts = [x[\"review_count\"] for x in full_dataset]\n",
    "ax1.hist(all_review_counts)\n",
    "ax1.set_title(\"Review Count Distribution\")\n",
    "ax1.set_xlabel(\"Number of Reviews\")\n",
    "ax1.set_ylabel(\"Number of Businesses\")\n",
    "\n",
    "# Plot rating distribution\n",
    "all_ratings = [x[\"rating\"] for x in full_dataset]\n",
    "rating_counter = Counter(all_ratings)\n",
    "rating_keys = sorted(rating_counter.keys())\n",
    "ax2.bar(rating_keys, [rating_counter[key] for key in rating_keys])\n",
    "ax2.set_title(\"Rating Distribution\")\n",
    "ax2.set_xlabel(\"Rating\")\n",
    "ax2.set_ylabel(\"Number of Businesses\")\n",
    "\n",
    "# Plot price distribution\n",
    "# all_prices = [x[\"price\"].replace(\"$\", r\"\\$\") for x in full_dataset]\n",
    "# price_counter = Counter(all_prices)\n",
    "# price_keys = sorted(price_counter.keys())\n",
    "# ax3.bar(price_keys, [price_counter[key] for key in price_keys])\n",
    "# ax3.set_title(\"Price Distribution\")\n",
    "# ax3.set_xlabel(\"Price Category\")\n",
    "# ax3.set_ylabel(\"Number of Businesses\");"
   ]
  },
  {
   "cell_type": "markdown",
   "metadata": {},
   "source": [
    "Describe the distributions displayed above and interpret them in the context of your query. (Your answer may differ from the solution branch depending on your query.)"
   ]
  },
  {
   "cell_type": "code",
   "execution_count": null,
   "metadata": {},
   "outputs": [],
   "source": [
    "# Replace None with appropriate text\n",
    "\"\"\"\n",
    "None\n",
    "\"\"\""
   ]
  },
  {
   "cell_type": "markdown",
   "metadata": {},
   "source": [
    "In the cell below, we also plot the rating distributions by price. In this setup, a price of one dollar sign is \"lower price\" and everything else is \"higher price\"."
   ]
  },
  {
   "cell_type": "code",
   "execution_count": 18,
   "metadata": {},
   "outputs": [
    {
     "ename": "KeyError",
     "evalue": "'price'",
     "output_type": "error",
     "traceback": [
      "\u001b[1;31m---------------------------------------------------------------------------\u001b[0m",
      "\u001b[1;31mKeyError\u001b[0m                                  Traceback (most recent call last)",
      "\u001b[1;32m<ipython-input-18-20b293d5410d>\u001b[0m in \u001b[0;36m<module>\u001b[1;34m\u001b[0m\n\u001b[0;32m      4\u001b[0m \u001b[0mlower_price\u001b[0m \u001b[1;33m=\u001b[0m \u001b[1;33m[\u001b[0m\u001b[1;33m]\u001b[0m\u001b[1;33m\u001b[0m\u001b[1;33m\u001b[0m\u001b[0m\n\u001b[0;32m      5\u001b[0m \u001b[1;32mfor\u001b[0m \u001b[0mrow\u001b[0m \u001b[1;32min\u001b[0m \u001b[0mfull_dataset\u001b[0m\u001b[1;33m:\u001b[0m\u001b[1;33m\u001b[0m\u001b[1;33m\u001b[0m\u001b[0m\n\u001b[1;32m----> 6\u001b[1;33m     \u001b[1;32mif\u001b[0m \u001b[0mrow\u001b[0m\u001b[1;33m[\u001b[0m\u001b[1;34m\"price\"\u001b[0m\u001b[1;33m]\u001b[0m \u001b[1;33m==\u001b[0m \u001b[1;34m\"$\"\u001b[0m\u001b[1;33m:\u001b[0m\u001b[1;33m\u001b[0m\u001b[1;33m\u001b[0m\u001b[0m\n\u001b[0m\u001b[0;32m      7\u001b[0m         \u001b[0mlower_price\u001b[0m\u001b[1;33m.\u001b[0m\u001b[0mappend\u001b[0m\u001b[1;33m(\u001b[0m\u001b[0mrow\u001b[0m\u001b[1;33m[\u001b[0m\u001b[1;34m\"rating\"\u001b[0m\u001b[1;33m]\u001b[0m\u001b[1;33m)\u001b[0m\u001b[1;33m\u001b[0m\u001b[1;33m\u001b[0m\u001b[0m\n\u001b[0;32m      8\u001b[0m     \u001b[1;32melse\u001b[0m\u001b[1;33m:\u001b[0m\u001b[1;33m\u001b[0m\u001b[1;33m\u001b[0m\u001b[0m\n",
      "\u001b[1;31mKeyError\u001b[0m: 'price'"
     ]
    }
   ],
   "source": [
    "# Run this cell without changes\n",
    "\n",
    "higher_price = []\n",
    "lower_price = []\n",
    "for row in full_dataset:\n",
    "    if row[\"price\"] == \"$\":\n",
    "        lower_price.append(row[\"rating\"])\n",
    "    else:\n",
    "        higher_price.append(row[\"rating\"])\n",
    "        \n",
    "fig, ax = plt.subplots()\n",
    "\n",
    "ax.hist([higher_price, lower_price], label=[\"higher price\", \"lower price\"], density=True)\n",
    "\n",
    "ax.legend();"
   ]
  },
  {
   "cell_type": "markdown",
   "metadata": {},
   "source": [
    "Is a higher price associated with a higher rating? (No need for any additional math/statistics, just interpret what you see in the plot.)"
   ]
  },
  {
   "cell_type": "code",
   "execution_count": null,
   "metadata": {},
   "outputs": [],
   "source": [
    "# Replace None with appropriate text\n",
    "\"\"\"\n",
    "None\n",
    "\"\"\""
   ]
  },
  {
   "cell_type": "markdown",
   "metadata": {},
   "source": [
    "Finally, let's look at ratings vs. review counts:"
   ]
  },
  {
   "cell_type": "code",
   "execution_count": null,
   "metadata": {},
   "outputs": [],
   "source": [
    "# Run this cell without changes\n",
    "fig, ax = plt.subplots(figsize=(16,5))\n",
    "\n",
    "ax.scatter(all_review_counts, all_ratings, alpha=0.2)\n",
    "ax.set_xlabel(\"Number of Reviews\")\n",
    "ax.set_ylabel(\"Rating\")\n",
    "# \"zoom in\" to a subset of review counts\n",
    "ax.set_xlim(left=0, right=1000);"
   ]
  },
  {
   "cell_type": "markdown",
   "metadata": {},
   "source": [
    "Is a higher number of reviews associated with a higher rating?"
   ]
  },
  {
   "cell_type": "code",
   "execution_count": null,
   "metadata": {},
   "outputs": [],
   "source": [
    "# Replace None with appropriate text\n",
    "\"\"\"\n",
    "None\n",
    "\"\"\""
   ]
  },
  {
   "cell_type": "markdown",
   "metadata": {},
   "source": [
    "## 4. Create a Folium Map\n",
    "\n",
    "Make a map using Folium of the businesses you retrieved. Be sure to also add popups to the markers giving some basic information such as name, rating and price.\n",
    "\n",
    "You can center the map around the latitude and longitude of the first item in `full_dataset`."
   ]
  },
  {
   "cell_type": "code",
   "execution_count": 30,
   "metadata": {},
   "outputs": [
    {
     "data": {
      "text/html": [
       "<div style=\"width:100%;\"><div style=\"position:relative;width:100%;height:0;padding-bottom:60%;\"><span style=\"color:#565656\">Make this Notebook Trusted to load map: File -> Trust Notebook</span><iframe src=\"about:blank\" style=\"position:absolute;width:100%;height:100%;left:0;top:0;border:none !important;\" data-html=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 onload=\"this.contentDocument.open();this.contentDocument.write(atob(this.getAttribute('data-html')));this.contentDocument.close();\" allowfullscreen webkitallowfullscreen mozallowfullscreen></iframe></div></div>"
      ],
      "text/plain": [
       "<folium.folium.Map at 0x29d41256d60>"
      ]
     },
     "execution_count": 30,
     "metadata": {},
     "output_type": "execute_result"
    }
   ],
   "source": [
    "# Replace None with appropriate code\n",
    "\n",
    "# Import the library\n",
    "import folium\n",
    "\n",
    "# Set up center latitude and longitude\n",
    "center_lat = full_dataset[0]['latitude']\n",
    "center_long = full_dataset[0]['longitude']\n",
    "\n",
    "# Initialize map with center lat and long\n",
    "yelp_map = folium.Map([center_lat, center_long], zoom_start = 13)\n",
    "\n",
    "# Adjust this limit to see more or fewer businesses\n",
    "limit=100\n",
    "\n",
    "for business in full_dataset[:limit]:\n",
    "    # Extract information about business\n",
    "    lat = business['latitude']\n",
    "    long = business['longitude']\n",
    "    name = business['name']\n",
    "    rating = business['rating']\n",
    "#     price = business['price']\n",
    "    details = \"{}\\nPrice: {} Rating:{}\".format(name,price,rating)\n",
    "    \n",
    "    # Create popup with relevant details\n",
    "    popup = folium.Popup(details, parse_html=True)  \n",
    "    \n",
    "    # Create marker with relevant lat/long and popup\n",
    "    marker = folium.Marker(location = [lat, long], popup=popup)\n",
    "    \n",
    "    marker.add_to(yelp_map)\n",
    "    \n",
    "yelp_map"
   ]
  },
  {
   "cell_type": "markdown",
   "metadata": {},
   "source": [
    "## Summary\n",
    "\n",
    "Nice work! In this lab, you've made multiple API calls to Yelp in order to paginate through a results set, performing some basic exploratory analysis and then creating a nice interactive map to display the results using Folium! Well done!"
   ]
  }
 ],
 "metadata": {
  "kernelspec": {
   "display_name": "Python 3",
   "language": "python",
   "name": "python3"
  },
  "language_info": {
   "codemirror_mode": {
    "name": "ipython",
    "version": 3
   },
   "file_extension": ".py",
   "mimetype": "text/x-python",
   "name": "python",
   "nbconvert_exporter": "python",
   "pygments_lexer": "ipython3",
   "version": "3.8.5"
  },
  "toc": {
   "base_numbering": 1,
   "nav_menu": {},
   "number_sections": true,
   "sideBar": true,
   "skip_h1_title": false,
   "title_cell": "Table of Contents",
   "title_sidebar": "Contents",
   "toc_cell": false,
   "toc_position": {},
   "toc_section_display": true,
   "toc_window_display": false
  }
 },
 "nbformat": 4,
 "nbformat_minor": 2
}
