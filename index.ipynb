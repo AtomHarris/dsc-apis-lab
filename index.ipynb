{
 "cells": [
  {
   "cell_type": "markdown",
   "metadata": {},
   "source": [
    "# APIs - Cumulative Lab\n",
    "\n",
    "\n",
    "## Introduction \n",
    "\n",
    "We've seen how the Yelp API works and how to create basic visualizations using Folium. It's time to put those skills to work in order to create a working map! Taking things a step further, you'll also independently explore how to perform pagination in order to retrieve a full results set from the Yelp API.\n",
    "\n",
    "## Objectives\n",
    "\n",
    "You will be able to: \n",
    "\n",
    "* Practice using functions to organize your code\n",
    "* Use pagination to retrieve all results from an API query\n",
    "* Practice parsing data returned from an API query\n",
    "* Practice interpreting visualizations of a dataset\n",
    "* Create maps using Folium"
   ]
  },
  {
   "cell_type": "markdown",
   "metadata": {},
   "source": [
    "## Your Task: Query Yelp for All Businesses in a Category and Analyze the Results\n",
    "\n",
    "![restaurant counter with pizza](images/restaurant_counter.jpg)\n",
    "\n",
    "Photo by <a href=\"https://unsplash.com/@jordanmadrid?utm_source=unsplash&utm_medium=referral&utm_content=creditCopyText\">Jordan Madrid</a> on <a href=\"/s/photos/pizza-restaurant?utm_source=unsplash&utm_medium=referral&utm_content=creditCopyText\">Unsplash</a>"
   ]
  },
  {
   "cell_type": "markdown",
   "metadata": {},
   "source": [
    "### Overview\n",
    "\n",
    "You've now worked with some API calls, but we have yet to see how to retrieve a more complete dataset in a programmatic manner. In this lab, you will write a query of businesses on Yelp, then use *pagination* to retrieve all possible results for that query. Then you will create a summary of your findings, including a Folium map of the geographic locations of those businesses.\n",
    "\n",
    "### Technical Details\n",
    "\n",
    "Returning to the Yelp API, the [documentation](https://www.yelp.com/developers/documentation/v3/business_search) also provides us details regarding the **API limits**. These often include details about the number of requests a user is allowed to make within a specified time limit and the maximum number of results to be returned. In this case, we are told that any request has a **maximum of 50 results per request** and defaults to 20. Furthermore, any search will be limited to a **total of 1000 results**. To retrieve all 1000 of these results, we would have to page through the results piece by piece, retrieving 50 at a time. Processes such as these are often referred to as pagination.\n",
    "\n",
    "Also, be mindful of the **API** ***rate*** **limits**. You can only make **5000 requests per day** and can make requests too fast. Start prototyping small before running a loop that could be faulty. You can also use `time.sleep(n)` to add delays. For more details see https://www.yelp.com/developers/documentation/v3/rate_limiting.\n",
    "\n",
    "In this lab, you will define a search and then paginate over the results to retrieve all of the results. You'll then parse these responses as a list of dictionaries (for further exploration) and create a map using Folium to visualize the results geographically.\n",
    "\n",
    "### Requirements\n",
    "\n",
    "#### 1. Make the Initial Request\n",
    "\n",
    "Start by filling in your API key to make the initial request to the business search API. Investigate the structure of the response you get back and start figuring out how you will extract the relevant information.\n",
    "\n",
    "#### 2. Add Pagination\n",
    "\n",
    "Using loops and functions, collect the maximum number of results for your query from the API.\n",
    "\n",
    "#### 3. Perform Exploratory Analysis\n",
    "\n",
    "Interpret visualizations related to the price range, average rating, and number of reviews for all query results.\n",
    "\n",
    "#### 4. Create a Folium Map\n",
    "\n",
    "Using latitude and longitude data, plot the query results on an interactive map."
   ]
  },
  {
   "cell_type": "markdown",
   "metadata": {},
   "source": [
    "## 1. Make the Initial Request\n",
    "\n",
    "### Querying\n",
    "\n",
    "Start by making an initial request to the Yelp API. Your search must include at least 2 parameters: **term** and **location**. For example, you might search for pizza restaurants in NYC. The term and location is up to you but make the request below.\n",
    "\n",
    "Use the `requests` library ([documentation here](https://requests.readthedocs.io/en/master/user/quickstart/#make-a-request)).\n",
    "\n",
    "You'll also need an API key from Yelp. If you haven't done this already, go to the Yelp [Manage App page](https://www.yelp.com/developers/v3/manage_app) and create a new app (after making an account if you haven't already)."
   ]
  },
  {
   "cell_type": "code",
   "execution_count": 25,
   "metadata": {},
   "outputs": [
    {
     "data": {
      "text/plain": [
       "<Response [200]>"
      ]
     },
     "execution_count": 25,
     "metadata": {},
     "output_type": "execute_result"
    }
   ],
   "source": [
    "# Replace None with appropriate code\n",
    "\n",
    "# Import the requests library\n",
    "import requests\n",
    "import json\n",
    "\n",
    "def get_keys(path):\n",
    "    with open(path) as f:\n",
    "        return json.load(f)\n",
    "\n",
    "# Get this from the \"Manage App\" page. Make sure you set them\n",
    "# back to None before pushing this to GitHub, since otherwise\n",
    "# your credentials will be compromised\n",
    "\n",
    "# keys=get_keys(None)\n",
    "# api_key = keys['key']\n",
    "api_key=\"oHO7VC_g4f8dx-yof18TszCxipWfLHmEXrFCLWxV88v525TDT2CJNOaSSfunea1oZhQ58mki2UKEi0hSfXLft1NhUT5d-Q6RoMuvrHtjXHenkMADJUh8qdTGUyT0ZXYx\"\n",
    "\n",
    "# These can be whatever you want! But the solution uses \"pizza\"\n",
    "# and \"New York NY\" if you want to compare your work directly\n",
    "term = \"pizza\"\n",
    "location = \"New York NY\"\n",
    "\n",
    "# Set up params for request\n",
    "url = \"https://api.yelp.com/v3/businesses/search\"\n",
    "headers = {\n",
    "    \"Authorization\": \"Bearer {}\".format(api_key)\n",
    "}\n",
    "url_params = {\n",
    "    \"term\": term.replace(\" \", \"+\"),\n",
    "    \"location\": location.replace(\" \", \"+\")\n",
    "}\n",
    "\n",
    "# Make the request using requests.get, passing in\n",
    "# url, headers=headers, and params=url_params\n",
    "response = requests.get(url, headers=headers, params=url_params)\n",
    "\n",
    "# Confirm we got a 200 response\n",
    "response"
   ]
  },
  {
   "cell_type": "code",
   "execution_count": 26,
   "metadata": {},
   "outputs": [
    {
     "data": {
      "text/plain": [
       "dict_keys(['businesses', 'total', 'region'])"
      ]
     },
     "execution_count": 26,
     "metadata": {},
     "output_type": "execute_result"
    }
   ],
   "source": [
    "# Run this cell without changes\n",
    "\n",
    "# Get the response body in JSON format\n",
    "response_json = response.json()\n",
    "# View the keys\n",
    "response_json.keys()"
   ]
  },
  {
   "cell_type": "markdown",
   "metadata": {},
   "source": [
    "### Extracting Data\n",
    "\n",
    "Now, retrieve the value associated with the `'businesses'` key, and inspect its contents."
   ]
  },
  {
   "cell_type": "code",
   "execution_count": 27,
   "metadata": {},
   "outputs": [
    {
     "data": {
      "text/plain": [
       "[{'id': 'ysqgdbSrezXgVwER2kQWKA',\n",
       "  'alias': 'julianas-brooklyn-3',\n",
       "  'name': \"Juliana's\",\n",
       "  'image_url': 'https://s3-media2.fl.yelpcdn.com/bphoto/od36nFW220aMFAnNP00ocw/o.jpg',\n",
       "  'is_closed': False,\n",
       "  'url': 'https://www.yelp.com/biz/julianas-brooklyn-3?adjust_creative=ICGkWrygXPlw6kVUifC-_A&utm_campaign=yelp_api_v3&utm_medium=api_v3_business_search&utm_source=ICGkWrygXPlw6kVUifC-_A',\n",
       "  'review_count': 2750,\n",
       "  'categories': [{'alias': 'pizza', 'title': 'Pizza'}],\n",
       "  'rating': 4.4,\n",
       "  'coordinates': {'latitude': 40.70274718768062,\n",
       "   'longitude': -73.99343490196397},\n",
       "  'transactions': ['delivery'],\n",
       "  'location': {'address1': '19 Old Fulton St',\n",
       "   'address2': '',\n",
       "   'address3': '',\n",
       "   'city': 'Brooklyn',\n",
       "   'zip_code': '11201',\n",
       "   'country': 'US',\n",
       "   'state': 'NY',\n",
       "   'display_address': ['19 Old Fulton St', 'Brooklyn, NY 11201']},\n",
       "  'phone': '+17185966700',\n",
       "  'display_phone': '(718) 596-6700',\n",
       "  'distance': 308.56984360837544},\n",
       " {'id': 'zj8Lq1T8KIC5zwFief15jg',\n",
       "  'alias': 'prince-street-pizza-new-york-2',\n",
       "  'name': 'Prince Street Pizza',\n",
       "  'image_url': 'https://s3-media1.fl.yelpcdn.com/bphoto/Jo9jBP5y6G_bG_g3H31fiw/o.jpg',\n",
       "  'is_closed': False,\n",
       "  'url': 'https://www.yelp.com/biz/prince-street-pizza-new-york-2?adjust_creative=ICGkWrygXPlw6kVUifC-_A&utm_campaign=yelp_api_v3&utm_medium=api_v3_business_search&utm_source=ICGkWrygXPlw6kVUifC-_A',\n",
       "  'review_count': 5219,\n",
       "  'categories': [{'alias': 'pizza', 'title': 'Pizza'},\n",
       "   {'alias': 'italian', 'title': 'Italian'}],\n",
       "  'rating': 4.3,\n",
       "  'coordinates': {'latitude': 40.72308755605564,\n",
       "   'longitude': -73.99453001177575},\n",
       "  'transactions': ['delivery', 'pickup'],\n",
       "  'location': {'address1': '27 Prince St',\n",
       "   'address2': None,\n",
       "   'address3': '',\n",
       "   'city': 'New York',\n",
       "   'zip_code': '10012',\n",
       "   'country': 'US',\n",
       "   'state': 'NY',\n",
       "   'display_address': ['27 Prince St', 'New York, NY 10012']},\n",
       "  'phone': '+12129664100',\n",
       "  'display_phone': '(212) 966-4100',\n",
       "  'distance': 1961.8771417367063},\n",
       " {'id': 'v1DHGRNCH9247WLYoaoA9A',\n",
       "  'alias': 'l-industrie-pizzeria-brooklyn',\n",
       "  'name': \"L'industrie Pizzeria\",\n",
       "  'image_url': 'https://s3-media1.fl.yelpcdn.com/bphoto/1-VBwAOj0g9YKYey3V-Z6Q/o.jpg',\n",
       "  'is_closed': False,\n",
       "  'url': 'https://www.yelp.com/biz/l-industrie-pizzeria-brooklyn?adjust_creative=ICGkWrygXPlw6kVUifC-_A&utm_campaign=yelp_api_v3&utm_medium=api_v3_business_search&utm_source=ICGkWrygXPlw6kVUifC-_A',\n",
       "  'review_count': 1258,\n",
       "  'categories': [{'alias': 'pizza', 'title': 'Pizza'}],\n",
       "  'rating': 4.7,\n",
       "  'coordinates': {'latitude': 40.71162, 'longitude': -73.95783},\n",
       "  'transactions': ['delivery', 'pickup'],\n",
       "  'location': {'address1': '254 S 2nd St',\n",
       "   'address2': '',\n",
       "   'address3': '',\n",
       "   'city': 'Brooklyn',\n",
       "   'zip_code': '11211',\n",
       "   'country': 'US',\n",
       "   'state': 'NY',\n",
       "   'display_address': ['254 S 2nd St', 'Brooklyn, NY 11211']},\n",
       "  'phone': '+17185990002',\n",
       "  'display_phone': '(718) 599-0002',\n",
       "  'distance': 3145.016041338447},\n",
       " {'id': 'G9hV4H2iGpWD8RoUpjtokg',\n",
       "  'alias': 'l-industrie-pizzeria-new-york',\n",
       "  'name': 'L’industrie Pizzeria',\n",
       "  'image_url': 'https://s3-media4.fl.yelpcdn.com/bphoto/Hzdlv1PI6ZM60HzVwxUc8A/o.jpg',\n",
       "  'is_closed': False,\n",
       "  'url': 'https://www.yelp.com/biz/l-industrie-pizzeria-new-york?adjust_creative=ICGkWrygXPlw6kVUifC-_A&utm_campaign=yelp_api_v3&utm_medium=api_v3_business_search&utm_source=ICGkWrygXPlw6kVUifC-_A',\n",
       "  'review_count': 141,\n",
       "  'categories': [{'alias': 'pizza', 'title': 'Pizza'}],\n",
       "  'rating': 4.7,\n",
       "  'coordinates': {'latitude': 40.73323443774397, 'longitude': -74.0049081},\n",
       "  'transactions': [],\n",
       "  'location': {'address1': '104 Christopher St',\n",
       "   'address2': '',\n",
       "   'address3': None,\n",
       "   'city': 'New York',\n",
       "   'zip_code': '10014',\n",
       "   'country': 'US',\n",
       "   'state': 'NY',\n",
       "   'display_address': ['104 Christopher St', 'New York, NY 10014']},\n",
       "  'phone': '+12122560648',\n",
       "  'display_phone': '(212) 256-0648',\n",
       "  'distance': 3216.943100434747},\n",
       " {'id': 'WIhm0W9197f_rRtDziq5qQ',\n",
       "  'alias': 'lombardis-pizza-new-york-4',\n",
       "  'name': \"Lombardi's Pizza\",\n",
       "  'image_url': 'https://s3-media1.fl.yelpcdn.com/bphoto/lBq1IBr5ZEI3nJBCwHYxcg/o.jpg',\n",
       "  'is_closed': False,\n",
       "  'url': 'https://www.yelp.com/biz/lombardis-pizza-new-york-4?adjust_creative=ICGkWrygXPlw6kVUifC-_A&utm_campaign=yelp_api_v3&utm_medium=api_v3_business_search&utm_source=ICGkWrygXPlw6kVUifC-_A',\n",
       "  'review_count': 6624,\n",
       "  'categories': [{'alias': 'pizza', 'title': 'Pizza'}],\n",
       "  'rating': 3.8,\n",
       "  'coordinates': {'latitude': 40.7215934960083,\n",
       "   'longitude': -73.9955956044561},\n",
       "  'transactions': ['delivery', 'pickup'],\n",
       "  'location': {'address1': '32 Spring St',\n",
       "   'address2': '',\n",
       "   'address3': '',\n",
       "   'city': 'New York',\n",
       "   'zip_code': '10012',\n",
       "   'country': 'US',\n",
       "   'state': 'NY',\n",
       "   'display_address': ['32 Spring St', 'New York, NY 10012']},\n",
       "  'phone': '+12129417994',\n",
       "  'display_phone': '(212) 941-7994',\n",
       "  'distance': 1798.9959778083735},\n",
       " {'id': 'KEEXuHCYhsQJ-zpJhu98bA',\n",
       "  'alias': 'joes-pizza-new-york-148',\n",
       "  'name': \"Joe's Pizza\",\n",
       "  'image_url': 'https://s3-media4.fl.yelpcdn.com/bphoto/FluVgKezP5ifs7greHV8Qg/o.jpg',\n",
       "  'is_closed': False,\n",
       "  'url': 'https://www.yelp.com/biz/joes-pizza-new-york-148?adjust_creative=ICGkWrygXPlw6kVUifC-_A&utm_campaign=yelp_api_v3&utm_medium=api_v3_business_search&utm_source=ICGkWrygXPlw6kVUifC-_A',\n",
       "  'review_count': 2169,\n",
       "  'categories': [{'alias': 'pizza', 'title': 'Pizza'}],\n",
       "  'rating': 4.2,\n",
       "  'coordinates': {'latitude': 40.7547, 'longitude': -73.98696},\n",
       "  'transactions': ['delivery', 'pickup'],\n",
       "  'location': {'address1': '1435 Broadway',\n",
       "   'address2': '',\n",
       "   'address3': None,\n",
       "   'city': 'New York',\n",
       "   'zip_code': '10018',\n",
       "   'country': 'US',\n",
       "   'state': 'NY',\n",
       "   'display_address': ['1435 Broadway', 'New York, NY 10018']},\n",
       "  'phone': '+16465594878',\n",
       "  'display_phone': '(646) 559-4878',\n",
       "  'distance': 5508.746902433722},\n",
       " {'id': 'Q9F2ocrmYuGt1yn3M7MOBw',\n",
       "  'alias': 'lucali-brooklyn-3',\n",
       "  'name': 'Lucali',\n",
       "  'image_url': 'https://s3-media1.fl.yelpcdn.com/bphoto/rMlNCZkNG2Nizhp8aBYKng/o.jpg',\n",
       "  'is_closed': False,\n",
       "  'url': 'https://www.yelp.com/biz/lucali-brooklyn-3?adjust_creative=ICGkWrygXPlw6kVUifC-_A&utm_campaign=yelp_api_v3&utm_medium=api_v3_business_search&utm_source=ICGkWrygXPlw6kVUifC-_A',\n",
       "  'review_count': 2042,\n",
       "  'categories': [{'alias': 'pizza', 'title': 'Pizza'}],\n",
       "  'rating': 4.2,\n",
       "  'coordinates': {'latitude': 40.681840746711224, 'longitude': -74.0003327},\n",
       "  'transactions': ['delivery'],\n",
       "  'location': {'address1': '575 Henry St',\n",
       "   'address2': None,\n",
       "   'address3': '',\n",
       "   'city': 'Brooklyn',\n",
       "   'zip_code': '11231',\n",
       "   'country': 'US',\n",
       "   'state': 'NY',\n",
       "   'display_address': ['575 Henry St', 'Brooklyn, NY 11231']},\n",
       "  'phone': '+17188584086',\n",
       "  'display_phone': '(718) 858-4086',\n",
       "  'distance': 2673.589406211555},\n",
       " {'id': '33MID69L6j6ZCZIR_S20uw',\n",
       "  'alias': 'mamas-too-new-york-2',\n",
       "  'name': \"Mama's Too\",\n",
       "  'image_url': 'https://s3-media3.fl.yelpcdn.com/bphoto/_fBNeFU-IMnUyjodPWuwmw/o.jpg',\n",
       "  'is_closed': False,\n",
       "  'url': 'https://www.yelp.com/biz/mamas-too-new-york-2?adjust_creative=ICGkWrygXPlw6kVUifC-_A&utm_campaign=yelp_api_v3&utm_medium=api_v3_business_search&utm_source=ICGkWrygXPlw6kVUifC-_A',\n",
       "  'review_count': 4,\n",
       "  'categories': [{'alias': 'italian', 'title': 'Italian'},\n",
       "   {'alias': 'pizza', 'title': 'Pizza'},\n",
       "   {'alias': 'sandwiches', 'title': 'Sandwiches'}],\n",
       "  'rating': 3.8,\n",
       "  'coordinates': {'latitude': 40.7332319, 'longitude': -74.004023},\n",
       "  'transactions': [],\n",
       "  'location': {'address1': '323 Bleecker St',\n",
       "   'address2': '',\n",
       "   'address3': None,\n",
       "   'city': 'New York',\n",
       "   'zip_code': '10014',\n",
       "   'country': 'US',\n",
       "   'state': 'NY',\n",
       "   'display_address': ['323 Bleecker St', 'New York, NY 10014']},\n",
       "  'phone': '+12125107256',\n",
       "  'display_phone': '(212) 510-7256',\n",
       "  'distance': 3196.730285650987},\n",
       " {'id': '-9NO2IDCJMyNGZMAQ1-VQw',\n",
       "  'alias': 'ny-pizza-suprema-new-york',\n",
       "  'name': 'NY Pizza Suprema',\n",
       "  'image_url': 'https://s3-media4.fl.yelpcdn.com/bphoto/EqbDXneMuQP6pw6GemVdQA/o.jpg',\n",
       "  'is_closed': False,\n",
       "  'url': 'https://www.yelp.com/biz/ny-pizza-suprema-new-york?adjust_creative=ICGkWrygXPlw6kVUifC-_A&utm_campaign=yelp_api_v3&utm_medium=api_v3_business_search&utm_source=ICGkWrygXPlw6kVUifC-_A',\n",
       "  'review_count': 2599,\n",
       "  'categories': [{'alias': 'pizza', 'title': 'Pizza'}],\n",
       "  'rating': 4.3,\n",
       "  'coordinates': {'latitude': 40.7502059936523,\n",
       "   'longitude': -73.9953231811523},\n",
       "  'transactions': ['delivery', 'pickup'],\n",
       "  'location': {'address1': '413 8th Ave',\n",
       "   'address2': '',\n",
       "   'address3': '',\n",
       "   'city': 'New York',\n",
       "   'zip_code': '10001',\n",
       "   'country': 'US',\n",
       "   'state': 'NY',\n",
       "   'display_address': ['413 8th Ave', 'New York, NY 10001']},\n",
       "  'phone': '+12125948939',\n",
       "  'display_phone': '(212) 594-8939',\n",
       "  'distance': 4977.847939164096},\n",
       " {'id': 'hGksyTiHBBdrhbiVjXzWVw',\n",
       "  'alias': 'scarrs-pizza-new-york',\n",
       "  'name': \"Scarr's Pizza\",\n",
       "  'image_url': 'https://s3-media3.fl.yelpcdn.com/bphoto/F6JCwU9XmP7FADyxuKrK3Q/o.jpg',\n",
       "  'is_closed': False,\n",
       "  'url': 'https://www.yelp.com/biz/scarrs-pizza-new-york?adjust_creative=ICGkWrygXPlw6kVUifC-_A&utm_campaign=yelp_api_v3&utm_medium=api_v3_business_search&utm_source=ICGkWrygXPlw6kVUifC-_A',\n",
       "  'review_count': 911,\n",
       "  'categories': [{'alias': 'pizza', 'title': 'Pizza'}],\n",
       "  'rating': 3.9,\n",
       "  'coordinates': {'latitude': 40.7157238, 'longitude': -73.99161149999999},\n",
       "  'transactions': ['delivery', 'pickup'],\n",
       "  'location': {'address1': '35 Orchard St',\n",
       "   'address2': '',\n",
       "   'address3': '',\n",
       "   'city': 'New York',\n",
       "   'zip_code': '10002',\n",
       "   'country': 'US',\n",
       "   'state': 'NY',\n",
       "   'display_address': ['35 Orchard St', 'New York, NY 10002']},\n",
       "  'phone': '+12123343481',\n",
       "  'display_phone': '(212) 334-3481',\n",
       "  'distance': 1165.1002553888},\n",
       " {'id': '16ZnHpuaaBt92XWeJHCC5A',\n",
       "  'alias': 'olio-e-più-new-york-7',\n",
       "  'name': 'Olio e Più',\n",
       "  'image_url': 'https://s3-media4.fl.yelpcdn.com/bphoto/CUpPgz_Q4QBHxxxxDJJTTA/o.jpg',\n",
       "  'is_closed': False,\n",
       "  'url': 'https://www.yelp.com/biz/olio-e-pi%C3%B9-new-york-7?adjust_creative=ICGkWrygXPlw6kVUifC-_A&utm_campaign=yelp_api_v3&utm_medium=api_v3_business_search&utm_source=ICGkWrygXPlw6kVUifC-_A',\n",
       "  'review_count': 5408,\n",
       "  'categories': [{'alias': 'pizza', 'title': 'Pizza'},\n",
       "   {'alias': 'italian', 'title': 'Italian'},\n",
       "   {'alias': 'cocktailbars', 'title': 'Cocktail Bars'}],\n",
       "  'rating': 4.5,\n",
       "  'coordinates': {'latitude': 40.733798036104304,\n",
       "   'longitude': -73.99977392649927},\n",
       "  'transactions': ['delivery', 'pickup'],\n",
       "  'location': {'address1': '3 Greenwich Ave',\n",
       "   'address2': None,\n",
       "   'address3': '',\n",
       "   'city': 'New York',\n",
       "   'zip_code': '10014',\n",
       "   'country': 'US',\n",
       "   'state': 'NY',\n",
       "   'display_address': ['3 Greenwich Ave', 'New York, NY 10014']},\n",
       "  'phone': '+12122436546',\n",
       "  'display_phone': '(212) 243-6546',\n",
       "  'distance': 3186.3804982206075},\n",
       " {'id': 'afuiZyn9oOyyCpuW7wGfHQ',\n",
       "  'alias': 'l-antica-pizzeria-da-michele-new-york-2',\n",
       "  'name': 'L’Antica Pizzeria da Michele',\n",
       "  'image_url': 'https://s3-media4.fl.yelpcdn.com/bphoto/ToekIdoWFBIeC6NyTOmDWQ/o.jpg',\n",
       "  'is_closed': False,\n",
       "  'url': 'https://www.yelp.com/biz/l-antica-pizzeria-da-michele-new-york-2?adjust_creative=ICGkWrygXPlw6kVUifC-_A&utm_campaign=yelp_api_v3&utm_medium=api_v3_business_search&utm_source=ICGkWrygXPlw6kVUifC-_A',\n",
       "  'review_count': 126,\n",
       "  'categories': [{'alias': 'pizza', 'title': 'Pizza'},\n",
       "   {'alias': 'italian', 'title': 'Italian'},\n",
       "   {'alias': 'breakfast_brunch', 'title': 'Breakfast & Brunch'}],\n",
       "  'rating': 4.3,\n",
       "  'coordinates': {'latitude': 40.737052, 'longitude': -74.001571},\n",
       "  'transactions': ['delivery', 'pickup', 'restaurant_reservation'],\n",
       "  'location': {'address1': '81 Greenwich Ave',\n",
       "   'address2': None,\n",
       "   'address3': '',\n",
       "   'city': 'New York',\n",
       "   'zip_code': '10014',\n",
       "   'country': 'US',\n",
       "   'state': 'NY',\n",
       "   'display_address': ['81 Greenwich Ave', 'New York, NY 10014']},\n",
       "  'phone': '+19295246682',\n",
       "  'display_phone': '(929) 524-6682',\n",
       "  'distance': 3560.29039362567},\n",
       " {'id': 'hZBxJfZtDjnMzH_jNFNHRQ',\n",
       "  'alias': 'little-pizza-parlor-brooklyn',\n",
       "  'name': 'Little Pizza Parlor',\n",
       "  'image_url': 'https://s3-media1.fl.yelpcdn.com/bphoto/jXQyfTZrmrJ3ra7nfPh4FQ/o.jpg',\n",
       "  'is_closed': False,\n",
       "  'url': 'https://www.yelp.com/biz/little-pizza-parlor-brooklyn?adjust_creative=ICGkWrygXPlw6kVUifC-_A&utm_campaign=yelp_api_v3&utm_medium=api_v3_business_search&utm_source=ICGkWrygXPlw6kVUifC-_A',\n",
       "  'review_count': 78,\n",
       "  'categories': [{'alias': 'pizza', 'title': 'Pizza'}],\n",
       "  'rating': 4.5,\n",
       "  'coordinates': {'latitude': 40.692425, 'longitude': -73.984467},\n",
       "  'transactions': ['delivery', 'pickup'],\n",
       "  'location': {'address1': '192 Duffield St',\n",
       "   'address2': None,\n",
       "   'address3': '',\n",
       "   'city': 'Brooklyn',\n",
       "   'zip_code': '11201',\n",
       "   'country': 'US',\n",
       "   'state': 'NY',\n",
       "   'display_address': ['192 Duffield St', 'Brooklyn, NY 11201']},\n",
       "  'phone': '+13477991249',\n",
       "  'display_phone': '(347) 799-1249',\n",
       "  'distance': 1668.414103945315},\n",
       " {'id': 'oJ_XSPZFpvIt6rvheSQl7A',\n",
       "  'alias': 'bleecker-street-pizza-new-york',\n",
       "  'name': 'Bleecker Street Pizza',\n",
       "  'image_url': 'https://s3-media1.fl.yelpcdn.com/bphoto/uScs5HVlHXaZMKIroDaHSg/o.jpg',\n",
       "  'is_closed': False,\n",
       "  'url': 'https://www.yelp.com/biz/bleecker-street-pizza-new-york?adjust_creative=ICGkWrygXPlw6kVUifC-_A&utm_campaign=yelp_api_v3&utm_medium=api_v3_business_search&utm_source=ICGkWrygXPlw6kVUifC-_A',\n",
       "  'review_count': 3027,\n",
       "  'categories': [{'alias': 'pizza', 'title': 'Pizza'},\n",
       "   {'alias': 'italian', 'title': 'Italian'}],\n",
       "  'rating': 4.2,\n",
       "  'coordinates': {'latitude': 40.7320627016512,\n",
       "   'longitude': -74.0036552270137},\n",
       "  'transactions': ['delivery', 'pickup'],\n",
       "  'location': {'address1': '69 7th Ave S',\n",
       "   'address2': None,\n",
       "   'address3': '',\n",
       "   'city': 'New York',\n",
       "   'zip_code': '10014',\n",
       "   'country': 'US',\n",
       "   'state': 'NY',\n",
       "   'display_address': ['69 7th Ave S', 'New York, NY 10014']},\n",
       "  'phone': '+12129244466',\n",
       "  'display_phone': '(212) 924-4466',\n",
       "  'distance': 3073.5742196084057},\n",
       " {'id': 'peV8B-MMMZb1mrC9r6rfAA',\n",
       "  'alias': 'lucia-of-soho-new-york',\n",
       "  'name': 'Lucia of Soho',\n",
       "  'image_url': 'https://s3-media1.fl.yelpcdn.com/bphoto/wO7d04A4mTpviADiKk10Yg/o.jpg',\n",
       "  'is_closed': False,\n",
       "  'url': 'https://www.yelp.com/biz/lucia-of-soho-new-york?adjust_creative=ICGkWrygXPlw6kVUifC-_A&utm_campaign=yelp_api_v3&utm_medium=api_v3_business_search&utm_source=ICGkWrygXPlw6kVUifC-_A',\n",
       "  'review_count': 41,\n",
       "  'categories': [{'alias': 'pizza', 'title': 'Pizza'}],\n",
       "  'rating': 4.7,\n",
       "  'coordinates': {'latitude': 40.721416405112784, 'longitude': -74.0043748},\n",
       "  'transactions': ['delivery', 'pickup'],\n",
       "  'location': {'address1': '375 Canal St',\n",
       "   'address2': None,\n",
       "   'address3': '',\n",
       "   'city': 'New York',\n",
       "   'zip_code': '10013',\n",
       "   'country': 'US',\n",
       "   'state': 'NY',\n",
       "   'display_address': ['375 Canal St', 'New York, NY 10013']},\n",
       "  'phone': '+19179652900',\n",
       "  'display_phone': '(917) 965-2900',\n",
       "  'distance': 1968.7604932148604},\n",
       " {'id': '6mYQzAdPxa4S1ZtvjST1eg',\n",
       "  'alias': 'julianas-time-out-market-brooklyn',\n",
       "  'name': \"Juliana's - Time Out Market\",\n",
       "  'image_url': 'https://s3-media3.fl.yelpcdn.com/bphoto/kqM6U4wGOhx1UtZtt2LMgA/o.jpg',\n",
       "  'is_closed': False,\n",
       "  'url': 'https://www.yelp.com/biz/julianas-time-out-market-brooklyn?adjust_creative=ICGkWrygXPlw6kVUifC-_A&utm_campaign=yelp_api_v3&utm_medium=api_v3_business_search&utm_source=ICGkWrygXPlw6kVUifC-_A',\n",
       "  'review_count': 4,\n",
       "  'categories': [{'alias': 'pizza', 'title': 'Pizza'}],\n",
       "  'rating': 4.3,\n",
       "  'coordinates': {'latitude': 40.703447, 'longitude': -73.99215},\n",
       "  'transactions': [],\n",
       "  'location': {'address1': '55 Water St',\n",
       "   'address2': '',\n",
       "   'address3': None,\n",
       "   'city': 'Brooklyn',\n",
       "   'zip_code': '11201',\n",
       "   'country': 'US',\n",
       "   'state': 'NY',\n",
       "   'display_address': ['55 Water St', 'Brooklyn, NY 11201']},\n",
       "  'phone': '',\n",
       "  'display_phone': '',\n",
       "  'distance': 286.33958619941774},\n",
       " {'id': 'EXQ0x2W9RTydIlHAU9MU1A',\n",
       "  'alias': 'mimis-pizza-new-york-3',\n",
       "  'name': \"Mimi's Pizza\",\n",
       "  'image_url': 'https://s3-media3.fl.yelpcdn.com/bphoto/btcWJW_uNq7JEwk2wFMtiQ/o.jpg',\n",
       "  'is_closed': False,\n",
       "  'url': 'https://www.yelp.com/biz/mimis-pizza-new-york-3?adjust_creative=ICGkWrygXPlw6kVUifC-_A&utm_campaign=yelp_api_v3&utm_medium=api_v3_business_search&utm_source=ICGkWrygXPlw6kVUifC-_A',\n",
       "  'review_count': 184,\n",
       "  'categories': [{'alias': 'pizza', 'title': 'Pizza'}],\n",
       "  'rating': 4.5,\n",
       "  'coordinates': {'latitude': 40.778638, 'longitude': -73.952895},\n",
       "  'transactions': ['delivery', 'pickup'],\n",
       "  'location': {'address1': '217 E 86th St',\n",
       "   'address2': None,\n",
       "   'address3': '',\n",
       "   'city': 'New York',\n",
       "   'zip_code': '10028',\n",
       "   'country': 'US',\n",
       "   'state': 'NY',\n",
       "   'display_address': ['217 E 86th St', 'New York, NY 10028']},\n",
       "  'phone': '+16468612518',\n",
       "  'display_phone': '(646) 861-2518',\n",
       "  'distance': 8852.345604022003},\n",
       " {'id': 'Ovniqgc47wZIEj-0rrEf3w',\n",
       "  'alias': 'macoletta-new-york-2',\n",
       "  'name': 'Macoletta',\n",
       "  'image_url': 'https://s3-media3.fl.yelpcdn.com/bphoto/c3GlZpR4AKFGR9g0yB0EKA/o.jpg',\n",
       "  'is_closed': False,\n",
       "  'url': 'https://www.yelp.com/biz/macoletta-new-york-2?adjust_creative=ICGkWrygXPlw6kVUifC-_A&utm_campaign=yelp_api_v3&utm_medium=api_v3_business_search&utm_source=ICGkWrygXPlw6kVUifC-_A',\n",
       "  'review_count': 30,\n",
       "  'categories': [{'alias': 'pizza', 'title': 'Pizza'},\n",
       "   {'alias': 'italian', 'title': 'Italian'},\n",
       "   {'alias': 'cocktailbars', 'title': 'Cocktail Bars'}],\n",
       "  'rating': 4.7,\n",
       "  'coordinates': {'latitude': 40.7210325, 'longitude': -73.9601995},\n",
       "  'transactions': ['delivery', 'pickup'],\n",
       "  'location': {'address1': '58 N 9th St',\n",
       "   'address2': None,\n",
       "   'address3': '',\n",
       "   'city': 'New York',\n",
       "   'zip_code': '11249',\n",
       "   'country': 'US',\n",
       "   'state': 'NY',\n",
       "   'display_address': ['58 N 9th St', 'New York, NY 11249']},\n",
       "  'phone': '+16075667105',\n",
       "  'display_phone': '(607) 566-7105',\n",
       "  'distance': 3348.398498155947},\n",
       " {'id': 'lSJNx6YFjG1PPwu2wRPcvg',\n",
       "  'alias': 'nates-detroit-style-pizza-brooklyn',\n",
       "  'name': \"Nate's Detroit Style Pizza\",\n",
       "  'image_url': 'https://s3-media4.fl.yelpcdn.com/bphoto/f5P_DVa4_FBhL0Ug1vF_rA/o.jpg',\n",
       "  'is_closed': False,\n",
       "  'url': 'https://www.yelp.com/biz/nates-detroit-style-pizza-brooklyn?adjust_creative=ICGkWrygXPlw6kVUifC-_A&utm_campaign=yelp_api_v3&utm_medium=api_v3_business_search&utm_source=ICGkWrygXPlw6kVUifC-_A',\n",
       "  'review_count': 3,\n",
       "  'categories': [{'alias': 'pizza', 'title': 'Pizza'}],\n",
       "  'rating': 5.0,\n",
       "  'coordinates': {'latitude': 40.689298, 'longitude': -73.991845},\n",
       "  'transactions': ['delivery', 'pickup'],\n",
       "  'location': {'address1': '220 Atlantic Ave',\n",
       "   'address2': '',\n",
       "   'address3': None,\n",
       "   'city': 'Brooklyn',\n",
       "   'zip_code': '11201',\n",
       "   'country': 'US',\n",
       "   'state': 'NY',\n",
       "   'display_address': ['220 Atlantic Ave', 'Brooklyn, NY 11201']},\n",
       "  'phone': '',\n",
       "  'display_phone': '',\n",
       "  'distance': 1802.6262038178663},\n",
       " {'id': '4h4Tuuc56YPO6lWfZ1bdSQ',\n",
       "  'alias': 'joes-pizza-new-york-152',\n",
       "  'name': \"Joe's Pizza\",\n",
       "  'image_url': 'https://s3-media4.fl.yelpcdn.com/bphoto/sUjegcIlz9bo1s20BqM5KA/o.jpg',\n",
       "  'is_closed': False,\n",
       "  'url': 'https://www.yelp.com/biz/joes-pizza-new-york-152?adjust_creative=ICGkWrygXPlw6kVUifC-_A&utm_campaign=yelp_api_v3&utm_medium=api_v3_business_search&utm_source=ICGkWrygXPlw6kVUifC-_A',\n",
       "  'review_count': 558,\n",
       "  'categories': [{'alias': 'pizza', 'title': 'Pizza'}],\n",
       "  'rating': 4.2,\n",
       "  'coordinates': {'latitude': 40.7101297729083,\n",
       "   'longitude': -74.0077206864953},\n",
       "  'transactions': ['delivery', 'pickup'],\n",
       "  'location': {'address1': '124 Fulton St',\n",
       "   'address2': '',\n",
       "   'address3': None,\n",
       "   'city': 'New York',\n",
       "   'zip_code': '10038',\n",
       "   'country': 'US',\n",
       "   'state': 'NY',\n",
       "   'display_address': ['124 Fulton St', 'New York, NY 10038']},\n",
       "  'phone': '+12122670860',\n",
       "  'display_phone': '(212) 267-0860',\n",
       "  'distance': 1245.9428626945232}]"
      ]
     },
     "execution_count": 27,
     "metadata": {},
     "output_type": "execute_result"
    }
   ],
   "source": [
    "response_json[\"businesses\"]"
   ]
  },
  {
   "cell_type": "code",
   "execution_count": 28,
   "metadata": {},
   "outputs": [
    {
     "data": {
      "text/plain": [
       "[{'id': 'ysqgdbSrezXgVwER2kQWKA',\n",
       "  'alias': 'julianas-brooklyn-3',\n",
       "  'name': \"Juliana's\",\n",
       "  'image_url': 'https://s3-media2.fl.yelpcdn.com/bphoto/od36nFW220aMFAnNP00ocw/o.jpg',\n",
       "  'is_closed': False,\n",
       "  'url': 'https://www.yelp.com/biz/julianas-brooklyn-3?adjust_creative=ICGkWrygXPlw6kVUifC-_A&utm_campaign=yelp_api_v3&utm_medium=api_v3_business_search&utm_source=ICGkWrygXPlw6kVUifC-_A',\n",
       "  'review_count': 2750,\n",
       "  'categories': [{'alias': 'pizza', 'title': 'Pizza'}],\n",
       "  'rating': 4.4,\n",
       "  'coordinates': {'latitude': 40.70274718768062,\n",
       "   'longitude': -73.99343490196397},\n",
       "  'transactions': ['delivery'],\n",
       "  'location': {'address1': '19 Old Fulton St',\n",
       "   'address2': '',\n",
       "   'address3': '',\n",
       "   'city': 'Brooklyn',\n",
       "   'zip_code': '11201',\n",
       "   'country': 'US',\n",
       "   'state': 'NY',\n",
       "   'display_address': ['19 Old Fulton St', 'Brooklyn, NY 11201']},\n",
       "  'phone': '+17185966700',\n",
       "  'display_phone': '(718) 596-6700',\n",
       "  'distance': 308.56984360837544},\n",
       " {'id': 'zj8Lq1T8KIC5zwFief15jg',\n",
       "  'alias': 'prince-street-pizza-new-york-2',\n",
       "  'name': 'Prince Street Pizza',\n",
       "  'image_url': 'https://s3-media1.fl.yelpcdn.com/bphoto/Jo9jBP5y6G_bG_g3H31fiw/o.jpg',\n",
       "  'is_closed': False,\n",
       "  'url': 'https://www.yelp.com/biz/prince-street-pizza-new-york-2?adjust_creative=ICGkWrygXPlw6kVUifC-_A&utm_campaign=yelp_api_v3&utm_medium=api_v3_business_search&utm_source=ICGkWrygXPlw6kVUifC-_A',\n",
       "  'review_count': 5219,\n",
       "  'categories': [{'alias': 'pizza', 'title': 'Pizza'},\n",
       "   {'alias': 'italian', 'title': 'Italian'}],\n",
       "  'rating': 4.3,\n",
       "  'coordinates': {'latitude': 40.72308755605564,\n",
       "   'longitude': -73.99453001177575},\n",
       "  'transactions': ['delivery', 'pickup'],\n",
       "  'location': {'address1': '27 Prince St',\n",
       "   'address2': None,\n",
       "   'address3': '',\n",
       "   'city': 'New York',\n",
       "   'zip_code': '10012',\n",
       "   'country': 'US',\n",
       "   'state': 'NY',\n",
       "   'display_address': ['27 Prince St', 'New York, NY 10012']},\n",
       "  'phone': '+12129664100',\n",
       "  'display_phone': '(212) 966-4100',\n",
       "  'distance': 1961.8771417367063}]"
      ]
     },
     "execution_count": 28,
     "metadata": {},
     "output_type": "execute_result"
    }
   ],
   "source": [
    "# Replace None with appropriate code\n",
    "\n",
    "# Retrieve the value from response_json\n",
    "businesses = [x for x in response_json ['businesses']]\n",
    "\n",
    "# View the first 2 records\n",
    "businesses[:2]"
   ]
  },
  {
   "cell_type": "markdown",
   "metadata": {},
   "source": [
    "### Preparing Data\n",
    "\n",
    "Write a function `prepare_data` that takes in a list of dictionaries like `businesses` and returns a copy that has been prepared for analysis:\n",
    "\n",
    "1. The `coordinates` key-value pair has been converted into two separate key-value pairs, `latitude` and `longitude`\n",
    "2. All other key-value pairs except for `name`, `review_count`, `rating`, and `price` have been dropped\n",
    "3. All dictionaries missing one of the relevant keys or containing null values have been dropped\n",
    "\n",
    "In other words, the final keys for each dictionary should be `name`, `review_count`, `rating`, `price`, `latitude`, and `longitude`.\n",
    "\n",
    "Complete the function in the cell below:"
   ]
  },
  {
   "cell_type": "code",
   "execution_count": 5,
   "metadata": {},
   "outputs": [
    {
     "name": "stdout",
     "output_type": "stream",
     "text": [
      "dict_keys(['id', 'alias', 'name', 'image_url', 'is_closed', 'url', 'review_count', 'categories', 'rating', 'coordinates', 'transactions', 'location', 'phone', 'display_phone', 'distance'])\n",
      "dict_keys(['id', 'alias', 'name', 'image_url', 'is_closed', 'url', 'review_count', 'categories', 'rating', 'coordinates', 'transactions', 'location', 'phone', 'display_phone', 'distance'])\n",
      "dict_keys(['id', 'alias', 'name', 'image_url', 'is_closed', 'url', 'review_count', 'categories', 'rating', 'coordinates', 'transactions', 'location', 'phone', 'display_phone', 'distance'])\n",
      "dict_keys(['id', 'alias', 'name', 'image_url', 'is_closed', 'url', 'review_count', 'categories', 'rating', 'coordinates', 'transactions', 'location', 'phone', 'display_phone', 'distance'])\n",
      "dict_keys(['id', 'alias', 'name', 'image_url', 'is_closed', 'url', 'review_count', 'categories', 'rating', 'coordinates', 'transactions', 'location', 'phone', 'display_phone', 'distance'])\n",
      "dict_keys(['id', 'alias', 'name', 'image_url', 'is_closed', 'url', 'review_count', 'categories', 'rating', 'coordinates', 'transactions', 'location', 'phone', 'display_phone', 'distance'])\n",
      "dict_keys(['id', 'alias', 'name', 'image_url', 'is_closed', 'url', 'review_count', 'categories', 'rating', 'coordinates', 'transactions', 'location', 'phone', 'display_phone', 'distance'])\n",
      "dict_keys(['id', 'alias', 'name', 'image_url', 'is_closed', 'url', 'review_count', 'categories', 'rating', 'coordinates', 'transactions', 'location', 'phone', 'display_phone', 'distance'])\n",
      "dict_keys(['id', 'alias', 'name', 'image_url', 'is_closed', 'url', 'review_count', 'categories', 'rating', 'coordinates', 'transactions', 'location', 'phone', 'display_phone', 'distance'])\n",
      "dict_keys(['id', 'alias', 'name', 'image_url', 'is_closed', 'url', 'review_count', 'categories', 'rating', 'coordinates', 'transactions', 'location', 'phone', 'display_phone', 'distance'])\n",
      "dict_keys(['id', 'alias', 'name', 'image_url', 'is_closed', 'url', 'review_count', 'categories', 'rating', 'coordinates', 'transactions', 'location', 'phone', 'display_phone', 'distance'])\n",
      "dict_keys(['id', 'alias', 'name', 'image_url', 'is_closed', 'url', 'review_count', 'categories', 'rating', 'coordinates', 'transactions', 'location', 'phone', 'display_phone', 'distance'])\n",
      "dict_keys(['id', 'alias', 'name', 'image_url', 'is_closed', 'url', 'review_count', 'categories', 'rating', 'coordinates', 'transactions', 'location', 'phone', 'display_phone', 'distance'])\n",
      "dict_keys(['id', 'alias', 'name', 'image_url', 'is_closed', 'url', 'review_count', 'categories', 'rating', 'coordinates', 'transactions', 'location', 'phone', 'display_phone', 'distance'])\n",
      "dict_keys(['id', 'alias', 'name', 'image_url', 'is_closed', 'url', 'review_count', 'categories', 'rating', 'coordinates', 'transactions', 'location', 'phone', 'display_phone', 'distance'])\n",
      "dict_keys(['id', 'alias', 'name', 'image_url', 'is_closed', 'url', 'review_count', 'categories', 'rating', 'coordinates', 'transactions', 'location', 'phone', 'display_phone', 'distance'])\n",
      "dict_keys(['id', 'alias', 'name', 'image_url', 'is_closed', 'url', 'review_count', 'categories', 'rating', 'coordinates', 'transactions', 'location', 'phone', 'display_phone', 'distance'])\n",
      "dict_keys(['id', 'alias', 'name', 'image_url', 'is_closed', 'url', 'review_count', 'categories', 'rating', 'coordinates', 'transactions', 'location', 'phone', 'display_phone', 'distance'])\n",
      "dict_keys(['id', 'alias', 'name', 'image_url', 'is_closed', 'url', 'review_count', 'categories', 'rating', 'coordinates', 'transactions', 'location', 'phone', 'display_phone', 'distance'])\n",
      "dict_keys(['id', 'alias', 'name', 'image_url', 'is_closed', 'url', 'review_count', 'categories', 'rating', 'coordinates', 'transactions', 'location', 'phone', 'display_phone', 'distance'])\n"
     ]
    }
   ],
   "source": [
    "for rev in businesses:\n",
    "    print(rev.keys())"
   ]
  },
  {
   "cell_type": "code",
   "execution_count": 6,
   "metadata": {},
   "outputs": [
    {
     "data": {
      "text/plain": [
       "[{'name': \"Juliana's\",\n",
       "  'review_count': 2750,\n",
       "  'rating': 4.4,\n",
       "  'latitude': 40.70274718768062,\n",
       "  'longitude': -73.99343490196397},\n",
       " {'name': 'Prince Street Pizza',\n",
       "  'review_count': 5219,\n",
       "  'rating': 4.3,\n",
       "  'latitude': 40.72308755605564,\n",
       "  'longitude': -73.99453001177575},\n",
       " {'name': \"L'industrie Pizzeria\",\n",
       "  'review_count': 1258,\n",
       "  'rating': 4.7,\n",
       "  'latitude': 40.71162,\n",
       "  'longitude': -73.95783},\n",
       " {'name': 'L’industrie Pizzeria',\n",
       "  'review_count': 141,\n",
       "  'rating': 4.7,\n",
       "  'latitude': 40.73323443774397,\n",
       "  'longitude': -74.0049081},\n",
       " {'name': \"Lombardi's Pizza\",\n",
       "  'review_count': 6624,\n",
       "  'rating': 3.8,\n",
       "  'latitude': 40.7215934960083,\n",
       "  'longitude': -73.9955956044561}]"
      ]
     },
     "execution_count": 6,
     "metadata": {},
     "output_type": "execute_result"
    }
   ],
   "source": [
    "# Replace None with appropriate code\n",
    "\n",
    "def prepare_data(data_list):\n",
    "    \"\"\"\n",
    "    This function takes in a list of dictionaries and prepares it\n",
    "    for analysis\n",
    "    \"\"\"\n",
    "    \n",
    "    # Make a new list to hold results\n",
    "    results = []\n",
    "    \n",
    "    for business_data in data_list:\n",
    "            \n",
    "        # Make a new dictionary to hold prepared data for this business\n",
    "        prepared_data = {}\n",
    "        prepared_data = {key:val for key, val in business_data.items() if (key == (\"name\") or key == (\"rating\") or key==(\"review_count\"))}  \n",
    "        \n",
    "        \n",
    "        prepared_data[\"latitude\"]= business_data['coordinates'][\"latitude\"]\n",
    "        prepared_data[\"longitude\"]= business_data['coordinates'][\"longitude\"]\n",
    "        # Extract name, review_count, rating, and price key-value pairs\n",
    "        # from business_data and add to prepared_data\n",
    "        # If a key is not present in business_data, add it to prepared_data\n",
    "        # with an associated value of None\n",
    "#            \n",
    "        # Parse and add latitude and longitude columns\n",
    "       \n",
    "        \n",
    "        # Add to list if all values are present\n",
    "        if all(prepared_data.values()):\n",
    "            results.append(prepared_data)\n",
    "    \n",
    "    return results\n",
    "    \n",
    "# Test out function\n",
    "prepared_businesses = prepare_data(businesses)\n",
    "prepared_businesses[:5]"
   ]
  },
  {
   "cell_type": "markdown",
   "metadata": {},
   "source": [
    "Check that your function created the correct keys:"
   ]
  },
  {
   "cell_type": "code",
   "execution_count": 7,
   "metadata": {},
   "outputs": [],
   "source": [
    "# Run this cell without changes\n",
    "\n",
    "assert sorted(list(prepared_businesses[0].keys())) == ['latitude', 'longitude', 'name', 'rating', 'review_count']"
   ]
  },
  {
   "cell_type": "markdown",
   "metadata": {},
   "source": [
    "The following code will differ depending on your query, but we expect there to be 20 businesses in the original list, and potentially fewer in the prepared list (if any of them were missing data):"
   ]
  },
  {
   "cell_type": "code",
   "execution_count": 8,
   "metadata": {},
   "outputs": [
    {
     "name": "stdout",
     "output_type": "stream",
     "text": [
      "Original: 20\n",
      "Prepared: 20\n"
     ]
    }
   ],
   "source": [
    "# Run this cell without changes\n",
    "print(\"Original:\", len(businesses))\n",
    "print(\"Prepared:\", len(prepared_businesses))"
   ]
  },
  {
   "cell_type": "markdown",
   "metadata": {},
   "source": [
    "Great! We will reuse this function once we have retrieved the full dataset."
   ]
  },
  {
   "cell_type": "markdown",
   "metadata": {},
   "source": [
    "## 2. Add Pagination\n",
    "\n",
    "Now that you are able to extract information from one page of the response, let's figure out how to request as many pages as possible.\n",
    "\n",
    "### Determining the Total\n",
    "\n",
    "Depending on the number of total results for your query, you will either retrieve all of the results, or just the first 1000 (if there are more than 1000 total).\n",
    "\n",
    "We can find the total number of results using the `\"total\"` key:"
   ]
  },
  {
   "cell_type": "code",
   "execution_count": 9,
   "metadata": {},
   "outputs": [
    {
     "data": {
      "text/plain": [
       "12400"
      ]
     },
     "execution_count": 9,
     "metadata": {},
     "output_type": "execute_result"
    }
   ],
   "source": [
    "# Run this cell without changes\n",
    "response_json[\"total\"]"
   ]
  },
  {
   "cell_type": "markdown",
   "metadata": {},
   "source": [
    "(This is specific to the implementation of the Yelp API. Some APIs will just tell you that there are more pages, or will tell you the number of pages total, rather than the total number of results. If you're not sure, always check the documentation.)\n",
    "\n",
    "In the cell below, assign the variable `total` to either the value shown above (if it is less than 1000), or 1000."
   ]
  },
  {
   "cell_type": "code",
   "execution_count": 10,
   "metadata": {},
   "outputs": [],
   "source": [
    "# Replace None with appropriate code\n",
    "if response_json[\"total\"] < 1000:\n",
    "    total = response_json[\"total\"]\n",
    "else: \n",
    "    total = 1000"
   ]
  },
  {
   "cell_type": "markdown",
   "metadata": {},
   "source": [
    "### Calculating the Offsets\n",
    "\n",
    "The documentation states in the parameters section:\n",
    "\n",
    "> **Name**: `limit`, **Type:** int, **Description:** Optional. Number of business results to return. By default, it will return 20. Maximum is 50.\n",
    "\n",
    "> **Name**: `offset`, **Type:** int, **Description:** Optional. Offset the list of returned business results by this amount.\n",
    "\n",
    "So, to get the most results with the fewest API calls we want to set a limit of 50 every time. If, say, we wanted to get 210 total results, that would mean:\n",
    "\n",
    "1. Offset of `0` (first 50 records)\n",
    "2. Offset of `50` (second 50 records)\n",
    "3. Offset of `100` (third 50 records)\n",
    "4. Offset of `150` (fourth 50 records)\n",
    "5. Offset of `200` (final 10 records)\n",
    "\n",
    "In the cell below, create a function `get_offsets` that takes in a total and returns a list of offsets for that total. You can assume that there is a limit of 50 every time.\n",
    "\n",
    "*Hint: you can use `range` ([documentation here](https://docs.python.org/3.3/library/stdtypes.html?highlight=range#range)) to do this in one line of code. Just make the returned result is a list.*"
   ]
  },
  {
   "cell_type": "code",
   "execution_count": 11,
   "metadata": {},
   "outputs": [],
   "source": [
    "# Replace None with appropriate code\n",
    "def get_offsets(total):\n",
    "    \"\"\"\n",
    "    Get a list of offsets needed to get all pages\n",
    "    of data up until the total\n",
    "    \"\"\"\n",
    "    return list(range(0, total, 50))"
   ]
  },
  {
   "cell_type": "markdown",
   "metadata": {},
   "source": [
    "Check that your function works below:"
   ]
  },
  {
   "cell_type": "code",
   "execution_count": 12,
   "metadata": {},
   "outputs": [],
   "source": [
    "# Run this cell without changes\n",
    "\n",
    "assert get_offsets(200) == [0, 50, 100, 150]\n",
    "assert get_offsets(210) == [0, 50, 100, 150, 200]"
   ]
  },
  {
   "cell_type": "markdown",
   "metadata": {},
   "source": [
    "### Putting It All Together\n",
    "\n",
    "Recall that the following variable has already been declared for you:"
   ]
  },
  {
   "cell_type": "code",
   "execution_count": 13,
   "metadata": {},
   "outputs": [
    {
     "data": {
      "text/plain": [
       "{'term': 'pizza', 'location': 'New+York+NY'}"
      ]
     },
     "execution_count": 13,
     "metadata": {},
     "output_type": "execute_result"
    }
   ],
   "source": [
    "# Run this cell without changes\n",
    "url_params"
   ]
  },
  {
   "cell_type": "markdown",
   "metadata": {},
   "source": [
    "We'll go ahead and also specify that the limit should be 50 every time:"
   ]
  },
  {
   "cell_type": "code",
   "execution_count": 14,
   "metadata": {},
   "outputs": [],
   "source": [
    "# Run this cell without changes\n",
    "url_params[\"limit\"] = 50"
   ]
  },
  {
   "cell_type": "markdown",
   "metadata": {},
   "source": [
    "In order to modify the offset, you'll need to add it to `url_params` with the key `\"offset\"` and whatever value is needed.\n",
    "\n",
    "In the cell below, write code that:\n",
    "\n",
    "* Creates an empty list for the full prepared dataset\n",
    "* Loops over all of the offsets from `get_offsets` and makes an API call each time with the specified offset\n",
    "* Calls `prepare_data` to get a cleaned version of the result of each API call\n",
    "* Extends the full prepared dataset list with each query's prepared dataset"
   ]
  },
  {
   "cell_type": "code",
   "execution_count": 15,
   "metadata": {},
   "outputs": [
    {
     "data": {
      "text/plain": [
       "997"
      ]
     },
     "execution_count": 15,
     "metadata": {},
     "output_type": "execute_result"
    }
   ],
   "source": [
    "# Replace None with appropriate code\n",
    "\n",
    "# Create an empty list for the full prepared dataset\n",
    "full_dataset = []\n",
    "\n",
    "for offset in get_offsets(total):\n",
    "    # Add or update the \"offset\" key-value pair in url_params\n",
    "    url_params['offset'] = offset\n",
    "    \n",
    "    # Make the query and get the response\n",
    "    response = requests.get(url, headers=headers, params=url_params)\n",
    "    \n",
    "    # Get the response body in JSON format\n",
    "    response_json = response.json()\n",
    "    \n",
    "    # Get the list of businesses from the response_json\n",
    "    businesses = response_json[\"businesses\"]\n",
    "    \n",
    "    # Call the prepare_data function to get a list of processed data\n",
    "    prepared_businesses = prepare_data(businesses)\n",
    "    \n",
    "    # Extend full_dataset with this list (don't append, or you'll get\n",
    "    # a list of lists instead of a flat list)\n",
    "    full_dataset.extend(prepared_businesses)\n",
    "\n",
    "# Check the length of the full dataset. It will be up to `total`,\n",
    "# potentially less if there were missing values\n",
    "len(full_dataset)"
   ]
  },
  {
   "cell_type": "markdown",
   "metadata": {},
   "source": [
    "This code may take up to a few minutes to run.\n",
    "\n",
    "If you get an error trying to get the response body in JSON format, try adding `time.sleep(1)` right after the `requests.get` line, so your code will sleep for 1 second between each API call."
   ]
  },
  {
   "cell_type": "markdown",
   "metadata": {},
   "source": [
    "## 3. Perform Exploratory Analysis\n",
    "\n",
    "Take the businesses from the previous question and do an initial exploratory analysis. We have provided some plots for you to interpret:"
   ]
  },
  {
   "cell_type": "code",
   "execution_count": 17,
   "metadata": {},
   "outputs": [
    {
     "data": {
      "text/plain": [
       "Text(0, 0.5, 'Number of Businesses')"
      ]
     },
     "execution_count": 17,
     "metadata": {},
     "output_type": "execute_result"
    },
    {
     "data": {
      "image/png": "[encoded data removed]",
      "text/plain": [
       "<Figure size 1152x360 with 3 Axes>"
      ]
     },
     "metadata": {
      "needs_background": "light"
     },
     "output_type": "display_data"
    }
   ],
   "source": [
    "# Run this cell without changes\n",
    "from collections import Counter\n",
    "import matplotlib.pyplot as plt\n",
    "%matplotlib inline\n",
    "\n",
    "fig, (ax1, ax2, ax3) = plt.subplots(ncols=3, figsize=(16, 5))\n",
    "\n",
    "# Plot distribution of number of reviews\n",
    "all_review_counts = [x[\"review_count\"] for x in full_dataset]\n",
    "ax1.hist(all_review_counts)\n",
    "ax1.set_title(\"Review Count Distribution\")\n",
    "ax1.set_xlabel(\"Number of Reviews\")\n",
    "ax1.set_ylabel(\"Number of Businesses\")\n",
    "\n",
    "# Plot rating distribution\n",
    "all_ratings = [x[\"rating\"] for x in full_dataset]\n",
    "rating_counter = Counter(all_ratings)\n",
    "rating_keys = sorted(rating_counter.keys())\n",
    "ax2.bar(rating_keys, [rating_counter[key] for key in rating_keys])\n",
    "ax2.set_title(\"Rating Distribution\")\n",
    "ax2.set_xlabel(\"Rating\")\n",
    "ax2.set_ylabel(\"Number of Businesses\")\n",
    "\n",
    "# Plot price distribution\n",
    "# all_prices = [x[\"price\"].replace(\"$\", r\"\\$\") for x in full_dataset]\n",
    "# price_counter = Counter(all_prices)\n",
    "# price_keys = sorted(price_counter.keys())\n",
    "# ax3.bar(price_keys, [price_counter[key] for key in price_keys])\n",
    "# ax3.set_title(\"Price Distribution\")\n",
    "# ax3.set_xlabel(\"Price Category\")\n",
    "# ax3.set_ylabel(\"Number of Businesses\");"
   ]
  },
  {
   "cell_type": "markdown",
   "metadata": {},
   "source": [
    "Describe the distributions displayed above and interpret them in the context of your query. (Your answer may differ from the solution branch depending on your query.)"
   ]
  },
  {
   "cell_type": "code",
   "execution_count": null,
   "metadata": {},
   "outputs": [],
   "source": [
    "# Replace None with appropriate text\n",
    "\"\"\"\n",
    "None\n",
    "\"\"\""
   ]
  },
  {
   "cell_type": "markdown",
   "metadata": {},
   "source": [
    "In the cell below, we also plot the rating distributions by price. In this setup, a price of one dollar sign is \"lower price\" and everything else is \"higher price\"."
   ]
  },
  {
   "cell_type": "code",
   "execution_count": 18,
   "metadata": {},
   "outputs": [
    {
     "ename": "KeyError",
     "evalue": "'price'",
     "output_type": "error",
     "traceback": [
      "\u001b[1;31m---------------------------------------------------------------------------\u001b[0m",
      "\u001b[1;31mKeyError\u001b[0m                                  Traceback (most recent call last)",
      "\u001b[1;32m<ipython-input-18-20b293d5410d>\u001b[0m in \u001b[0;36m<module>\u001b[1;34m\u001b[0m\n\u001b[0;32m      4\u001b[0m \u001b[0mlower_price\u001b[0m \u001b[1;33m=\u001b[0m \u001b[1;33m[\u001b[0m\u001b[1;33m]\u001b[0m\u001b[1;33m\u001b[0m\u001b[1;33m\u001b[0m\u001b[0m\n\u001b[0;32m      5\u001b[0m \u001b[1;32mfor\u001b[0m \u001b[0mrow\u001b[0m \u001b[1;32min\u001b[0m \u001b[0mfull_dataset\u001b[0m\u001b[1;33m:\u001b[0m\u001b[1;33m\u001b[0m\u001b[1;33m\u001b[0m\u001b[0m\n\u001b[1;32m----> 6\u001b[1;33m     \u001b[1;32mif\u001b[0m \u001b[0mrow\u001b[0m\u001b[1;33m[\u001b[0m\u001b[1;34m\"price\"\u001b[0m\u001b[1;33m]\u001b[0m \u001b[1;33m==\u001b[0m \u001b[1;34m\"$\"\u001b[0m\u001b[1;33m:\u001b[0m\u001b[1;33m\u001b[0m\u001b[1;33m\u001b[0m\u001b[0m\n\u001b[0m\u001b[0;32m      7\u001b[0m         \u001b[0mlower_price\u001b[0m\u001b[1;33m.\u001b[0m\u001b[0mappend\u001b[0m\u001b[1;33m(\u001b[0m\u001b[0mrow\u001b[0m\u001b[1;33m[\u001b[0m\u001b[1;34m\"rating\"\u001b[0m\u001b[1;33m]\u001b[0m\u001b[1;33m)\u001b[0m\u001b[1;33m\u001b[0m\u001b[1;33m\u001b[0m\u001b[0m\n\u001b[0;32m      8\u001b[0m     \u001b[1;32melse\u001b[0m\u001b[1;33m:\u001b[0m\u001b[1;33m\u001b[0m\u001b[1;33m\u001b[0m\u001b[0m\n",
      "\u001b[1;31mKeyError\u001b[0m: 'price'"
     ]
    }
   ],
   "source": [
    "# Run this cell without changes\n",
    "\n",
    "higher_price = []\n",
    "lower_price = []\n",
    "for row in full_dataset:\n",
    "    if row[\"price\"] == \"$\":\n",
    "        lower_price.append(row[\"rating\"])\n",
    "    else:\n",
    "        higher_price.append(row[\"rating\"])\n",
    "        \n",
    "fig, ax = plt.subplots()\n",
    "\n",
    "ax.hist([higher_price, lower_price], label=[\"higher price\", \"lower price\"], density=True)\n",
    "\n",
    "ax.legend();"
   ]
  },
  {
   "cell_type": "markdown",
   "metadata": {},
   "source": [
    "Is a higher price associated with a higher rating? (No need for any additional math/statistics, just interpret what you see in the plot.)"
   ]
  },
  {
   "cell_type": "code",
   "execution_count": null,
   "metadata": {},
   "outputs": [],
   "source": [
    "# Replace None with appropriate text\n",
    "\"\"\"\n",
    "None\n",
    "\"\"\""
   ]
  },
  {
   "cell_type": "markdown",
   "metadata": {},
   "source": [
    "Finally, let's look at ratings vs. review counts:"
   ]
  },
  {
   "cell_type": "code",
   "execution_count": null,
   "metadata": {},
   "outputs": [],
   "source": [
    "# Run this cell without changes\n",
    "fig, ax = plt.subplots(figsize=(16,5))\n",
    "\n",
    "ax.scatter(all_review_counts, all_ratings, alpha=0.2)\n",
    "ax.set_xlabel(\"Number of Reviews\")\n",
    "ax.set_ylabel(\"Rating\")\n",
    "# \"zoom in\" to a subset of review counts\n",
    "ax.set_xlim(left=0, right=1000);"
   ]
  },
  {
   "cell_type": "markdown",
   "metadata": {},
   "source": [
    "Is a higher number of reviews associated with a higher rating?"
   ]
  },
  {
   "cell_type": "code",
   "execution_count": null,
   "metadata": {},
   "outputs": [],
   "source": [
    "# Replace None with appropriate text\n",
    "\"\"\"\n",
    "None\n",
    "\"\"\""
   ]
  },
  {
   "cell_type": "markdown",
   "metadata": {},
   "source": [
    "## 4. Create a Folium Map\n",
    "\n",
    "Make a map using Folium of the businesses you retrieved. Be sure to also add popups to the markers giving some basic information such as name, rating and price.\n",
    "\n",
    "You can center the map around the latitude and longitude of the first item in `full_dataset`."
   ]
  },
  {
   "cell_type": "code",
   "execution_count": null,
   "metadata": {},
   "outputs": [],
   "source": [
    "# Replace None with appropriate code\n",
    "\n",
    "# Import the library\n",
    "None\n",
    "\n",
    "# Set up center latitude and longitude\n",
    "center_lat = None\n",
    "center_long = None\n",
    "\n",
    "# Initialize map with center lat and long\n",
    "yelp_map = None\n",
    "\n",
    "# Adjust this limit to see more or fewer businesses\n",
    "limit=100\n",
    "\n",
    "for business in full_dataset[:limit]:\n",
    "    # Extract information about business\n",
    "    lat = None\n",
    "    long = None\n",
    "    name = None\n",
    "    rating = None\n",
    "    price = None\n",
    "    details = \"{}\\nPrice: {} Rating:{}\".format(name,price,rating)\n",
    "    \n",
    "    # Create popup with relevant details\n",
    "    popup = None\n",
    "    \n",
    "    # Create marker with relevant lat/long and popup\n",
    "    marker = None\n",
    "    \n",
    "    marker.add_to(yelp_map)\n",
    "    \n",
    "yelp_map"
   ]
  },
  {
   "cell_type": "markdown",
   "metadata": {},
   "source": [
    "## Summary\n",
    "\n",
    "Nice work! In this lab, you've made multiple API calls to Yelp in order to paginate through a results set, performing some basic exploratory analysis and then creating a nice interactive map to display the results using Folium! Well done!"
   ]
  }
 ],
 "metadata": {
  "kernelspec": {
   "display_name": "Python 3",
   "language": "python",
   "name": "python3"
  },
  "language_info": {
   "codemirror_mode": {
    "name": "ipython",
    "version": 3
   },
   "file_extension": ".py",
   "mimetype": "text/x-python",
   "name": "python",
   "nbconvert_exporter": "python",
   "pygments_lexer": "ipython3",
   "version": "3.8.5"
  },
  "toc": {
   "base_numbering": 1,
   "nav_menu": {},
   "number_sections": true,
   "sideBar": true,
   "skip_h1_title": false,
   "title_cell": "Table of Contents",
   "title_sidebar": "Contents",
   "toc_cell": false,
   "toc_position": {},
   "toc_section_display": true,
   "toc_window_display": false
  }
 },
 "nbformat": 4,
 "nbformat_minor": 2
}
